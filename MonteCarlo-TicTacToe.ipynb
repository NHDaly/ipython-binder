{
 "cells": [
  {
   "cell_type": "markdown",
   "metadata": {},
   "source": [
    "## TicTacToe"
   ]
  },
  {
   "cell_type": "code",
   "execution_count": 4,
   "metadata": {
    "collapsed": false
   },
   "outputs": [],
   "source": [
    "import numpy as np\n",
    "from __future__ import print_function"
   ]
  },
  {
   "cell_type": "code",
   "execution_count": 6,
   "metadata": {
    "collapsed": false
   },
   "outputs": [],
   "source": [
    "empty = 0\n",
    "x = 1\n",
    "oh = -1\n",
    "init_board = np.array([[0, 0, 0], [0, 0, 0], [0, 0, 0]])"
   ]
  },
  {
   "cell_type": "code",
   "execution_count": 7,
   "metadata": {
    "collapsed": false
   },
   "outputs": [
    {
     "name": "stdout",
     "output_type": "stream",
     "text": [
      "\n",
      "[[0 0 0]\n",
      " [0 0 0]\n",
      " [0 0 0]] 0.5 []\n"
     ]
    }
   ],
   "source": [
    "class Node:\n",
    "    def __init__(self, board, depth):\n",
    "        self.board = board\n",
    "        self.prob = 0.5\n",
    "        self.children = {}   # key = (player, (x,y)) , value = node\n",
    "        self.depth = depth\n",
    "        \n",
    "    def __repr__(self):\n",
    "        return '\\n'+ '\\t'*self.depth + str(self.board).replace('\\n', '\\n'+'\\t'*self.depth) +\" \"+str(self.prob)+' '+str(self.children.values())\n",
    "\n",
    "root = Node(init_board, 0) \n",
    "print(root)"
   ]
  },
  {
   "cell_type": "code",
   "execution_count": 8,
   "metadata": {
    "collapsed": false
   },
   "outputs": [],
   "source": [
    "def expand(node, position, player):\n",
    "    if node.board[position] != 0:\n",
    "        key = (node.board[position], position)\n",
    "        return None\n",
    "    key = (player, position)\n",
    "    new_board = np.copy(node.board)\n",
    "    new_board[position] = player\n",
    "    new_child = Node(new_board, node.depth+1)\n",
    "    node.children[key] = new_child\n",
    "    return new_child"
   ]
  },
  {
   "cell_type": "code",
   "execution_count": 9,
   "metadata": {
    "collapsed": false
   },
   "outputs": [
    {
     "name": "stdout",
     "output_type": "stream",
     "text": [
      "\n",
      "[[0 0 0]\n",
      " [0 0 0]\n",
      " [0 0 0]] 0.5 [\n",
      "\t[[1 0 0]\n",
      "\t [0 0 0]\n",
      "\t [0 0 0]] 0.5 [], \n",
      "\t[[ 0  0  0]\n",
      "\t [ 0 -1  0]\n",
      "\t [ 0  0  0]] 0.5 [\n",
      "\t\t[[ 0  0  0]\n",
      "\t\t [ 0 -1  0]\n",
      "\t\t [ 0  0 -1]] 0.5 [], \n",
      "\t\t[[ 0  0  0]\n",
      "\t\t [ 0 -1  0]\n",
      "\t\t [ 0  0  1]] 0.5 []]]\n"
     ]
    }
   ],
   "source": [
    "expand(root,(0,0),x)\n",
    "select = expand(root,(1,1),oh)\n",
    "expand(select, (2,2),x)\n",
    "expand(select, (2,2),oh)\n",
    "expand(select, (1,1),x)\n",
    "print(root)\n"
   ]
  },
  {
   "cell_type": "code",
   "execution_count": 10,
   "metadata": {
    "collapsed": false
   },
   "outputs": [
    {
     "name": "stdout",
     "output_type": "stream",
     "text": [
      "1\n",
      "1\n",
      "-1\n",
      "1\n",
      "-1\n",
      "0\n"
     ]
    }
   ],
   "source": [
    "board = root.board\n",
    "rows = len(board)\n",
    "cols = len(board[0])\n",
    "def Winner(board):\n",
    "    for i in range(0,rows):\n",
    "        row = board[i,:]\n",
    "        if sum(row) == x*cols:\n",
    "            return x\n",
    "        elif sum(row) == oh*cols:\n",
    "            return oh\n",
    "    for j in range(0, cols):\n",
    "        col = board[:,j]\n",
    "        if sum(col) == x*rows:\n",
    "            return x\n",
    "        elif sum(col) == oh*rows:\n",
    "            return oh\n",
    "    diag_right = board.diagonal()\n",
    "    diag_left = board[:, ::-1].diagonal()\n",
    "    if sum(diag_right) == x*rows:\n",
    "        return x\n",
    "    if sum(diag_left) == x*rows:\n",
    "        return x\n",
    "    if sum(diag_right) == oh*rows:\n",
    "        return oh\n",
    "    if sum(diag_left) == oh*rows:\n",
    "        return oh\n",
    "    return 0\n",
    "print(Winner(np.array([[x,x,x], [0,0,0], [0,oh,oh]])))\n",
    "print(Winner(np.array([[x,oh,0], [x,0,0], [x,oh,oh]])))\n",
    "print(Winner(np.array([[x,oh,0], [x,oh,0], [oh,oh,0]])))\n",
    "print(Winner(np.array([[x,oh,0], [x,x,0], [oh,oh,x]])))\n",
    "print(Winner(np.array([[x,oh,oh], [x,oh,0], [oh,0,0]])))\n",
    "print(Winner(init_board))\n"
   ]
  },
  {
   "cell_type": "code",
   "execution_count": 11,
   "metadata": {
    "collapsed": false,
    "scrolled": true
   },
   "outputs": [],
   "source": [
    "def solve(root, next_player):\n",
    "    winner = Winner(root.board)\n",
    "    if winner != 0:\n",
    "        root.prob = 0.0 if winner == oh else 1.0\n",
    "        return\n",
    "    root.prob = 0.0\n",
    "    for i in range(len(board)):\n",
    "        for j in range(len(board[0])):\n",
    "            expand(root, (i,j), next_player)\n",
    "    if len(root.children) == 0:\n",
    "        return\n",
    "    for child in root.children.values():\n",
    "        solve(child, next_player * -1)\n",
    "        root.prob += child.prob\n",
    "    root.prob /= len(root.children)\n",
    "\n",
    "root = Node(init_board, 0)\n",
    "solve(root, x)"
   ]
  },
  {
   "cell_type": "code",
   "execution_count": 17,
   "metadata": {
    "collapsed": false
   },
   "outputs": [
    {
     "data": {
      "text/plain": [
       "\n",
       "\t\t\t\t\t[[ 1 -1  0]\n",
       "\t\t\t\t\t [-1  1  0]\n",
       "\t\t\t\t\t [ 0  0  1]] 1.0 []"
      ]
     },
     "execution_count": 17,
     "metadata": {},
     "output_type": "execute_result"
    }
   ],
   "source": [
    "def play_x_best(node):\n",
    "    return max(node.children.values(), key= lambda x: x.prob)\n",
    "def play_x_sample(node):\n",
    "    p=[float(x.prob) for x in node.children.values()]\n",
    "    p_norm = [x / sum(p) for x in p]\n",
    "    return np.random.choice(node.children.values(), p=p_norm)\n",
    "def play_oh(node):\n",
    "    return min(node.children.values(), key= lambda x: x.prob)\n",
    "play_x_best(play_x_best(play_x_best(root).children.values()[0]).children.values()[0])"
   ]
  },
  {
   "cell_type": "markdown",
   "metadata": {},
   "source": [
    "# Play TicTacToe Against the Computer"
   ]
  },
  {
   "cell_type": "code",
   "execution_count": 18,
   "metadata": {
    "collapsed": false
   },
   "outputs": [],
   "source": [
    "from ipywidgets import interactive, Button, RadioButtons, widgets\n",
    "from IPython.display import display\n",
    "import ipywidgets, IPython.display"
   ]
  },
  {
   "cell_type": "code",
   "execution_count": null,
   "metadata": {
    "collapsed": false,
    "scrolled": true
   },
   "outputs": [],
   "source": []
  },
  {
   "cell_type": "code",
   "execution_count": 20,
   "metadata": {
    "collapsed": false,
    "scrolled": false
   },
   "outputs": [
    {
     "name": "stdout",
     "output_type": "stream",
     "text": [
      "Run this cell!\n"
     ]
    }
   ],
   "source": [
    "node = root\n",
    "buttons = []\n",
    "\n",
    "def create_board():\n",
    "    for i in range(0,len(board)):\n",
    "        button_row = []\n",
    "        for j in range(0,len(board[i])):\n",
    "            b = Button()\n",
    "            b.on_click(play_game)\n",
    "            button_row.append(b)\n",
    "        buttons.append(button_row)\n",
    "        display(widgets.Box(button_row))\n",
    "    update_board()\n",
    "    \n",
    "def update_board():\n",
    "    for i in range(0,len(board)):\n",
    "        for j in range(0,len(board[i])):\n",
    "            pos = (i,j)\n",
    "            player = node.board[pos]\n",
    "            b = buttons[i][j]\n",
    "            b.description='x' if player == x else 'o' if player == oh else '.'\n",
    "            b.board_position = pos\n",
    "\n",
    "def play_game(button):\n",
    "    global node\n",
    "    point = button.board_position\n",
    "    # your move\n",
    "    node = node.children[(oh, point)]\n",
    "    # computer's move\n",
    "    node = play_x_best(node)      # Change this to play_x_sample to have the opponent sample randomly from the best moves.\n",
    "    update_board()\n",
    "\n",
    "create_board()\n",
    "node = play_x_sample(node)       # Start with random good move.\n",
    "update_board()\n",
    "\n",
    "print(\"Run this cell!\")"
   ]
  },
  {
   "cell_type": "code",
   "execution_count": null,
   "metadata": {
    "collapsed": true
   },
   "outputs": [],
   "source": []
  },
  {
   "cell_type": "code",
   "execution_count": null,
   "metadata": {
    "collapsed": true
   },
   "outputs": [],
   "source": []
  }
 ],
 "metadata": {
  "kernelspec": {
   "display_name": "Python 2",
   "language": "python",
   "name": "python2"
  },
  "language_info": {
   "codemirror_mode": {
    "name": "ipython",
    "version": 2
   },
   "file_extension": ".py",
   "mimetype": "text/x-python",
   "name": "python",
   "nbconvert_exporter": "python",
   "pygments_lexer": "ipython2",
   "version": "2.7.11"
  }
 },
 "nbformat": 4,
 "nbformat_minor": 0
}
