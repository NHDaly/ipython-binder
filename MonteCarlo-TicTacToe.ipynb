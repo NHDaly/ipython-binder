{
 "cells": [
  {
   "cell_type": "markdown",
   "metadata": {},
   "source": [
    "## TicTacToe"
   ]
  },
  {
   "cell_type": "code",
   "execution_count": 24,
   "metadata": {
    "collapsed": false
   },
   "outputs": [],
   "source": [
    "import numpy as np\n",
    "from __future__ import print_function"
   ]
  },
  {
   "cell_type": "code",
   "execution_count": 304,
   "metadata": {
    "collapsed": false
   },
   "outputs": [
    {
     "name": "stdout",
     "output_type": "stream",
     "text": [
      "[[0 0 0]\n",
      " [0 0 0]\n",
      " [0 0 0]]\n"
     ]
    }
   ],
   "source": [
    "empty = 0\n",
    "x = 1\n",
    "oh = -1\n",
    "init_board = np.array([[0, 0, 0], [0, 0, 0], [0, 0, 0]])\n",
    "print(board)\n",
    "UNEXPLORED=0"
   ]
  },
  {
   "cell_type": "code",
   "execution_count": 305,
   "metadata": {
    "collapsed": false
   },
   "outputs": [
    {
     "name": "stdout",
     "output_type": "stream",
     "text": [
      "\n",
      "[[0 0 0]\n",
      " [0 0 0]\n",
      " [0 0 0]] 0.5 []\n"
     ]
    }
   ],
   "source": [
    "class Node:\n",
    "    def __init__(self, board, depth):\n",
    "        self.board = board\n",
    "        self.prob = 0.5\n",
    "        self.children = {}   # key = (player, (x,y)) , value = node\n",
    "        self.depth = depth\n",
    "        \n",
    "    def __repr__(self):\n",
    "        return '\\n'+ '\\t'*self.depth + str(self.board).replace('\\n', '\\n'+'\\t'*self.depth) +\" \"+str(self.prob)+' '+str(self.children.values())\n",
    "\n",
    "root = Node(init_board, 0) \n",
    "print(root)"
   ]
  },
  {
   "cell_type": "code",
   "execution_count": 306,
   "metadata": {
    "collapsed": false
   },
   "outputs": [],
   "source": [
    "def expand(node, position, player):\n",
    "    if node.board[position] != 0:\n",
    "        key = (node.board[position], position)\n",
    "        return None\n",
    "    key = (player, position)\n",
    "    new_board = np.copy(node.board)\n",
    "    new_board[position] = player\n",
    "    new_child = Node(new_board, node.depth+1)\n",
    "    node.children[key] = new_child\n",
    "    return new_child"
   ]
  },
  {
   "cell_type": "code",
   "execution_count": 307,
   "metadata": {
    "collapsed": false
   },
   "outputs": [
    {
     "name": "stdout",
     "output_type": "stream",
     "text": [
      "\n",
      "[[0 0 0]\n",
      " [0 0 0]\n",
      " [0 0 0]] 0.5 [\n",
      "\t[[1 0 0]\n",
      "\t [0 0 0]\n",
      "\t [0 0 0]] 0.5 [], \n",
      "\t[[ 0  0  0]\n",
      "\t [ 0 -1  0]\n",
      "\t [ 0  0  0]] 0.5 [\n",
      "\t\t[[ 0  0  0]\n",
      "\t\t [ 0 -1  0]\n",
      "\t\t [ 0  0 -1]] 0.5 [], \n",
      "\t\t[[ 0  0  0]\n",
      "\t\t [ 0 -1  0]\n",
      "\t\t [ 0  0  1]] 0.5 []]]\n"
     ]
    }
   ],
   "source": [
    "expand(root,(0,0),x)\n",
    "select = expand(root,(1,1),oh)\n",
    "expand(select, (2,2),x)\n",
    "expand(select, (2,2),oh)\n",
    "expand(select, (1,1),x)\n",
    "print(root)\n"
   ]
  },
  {
   "cell_type": "code",
   "execution_count": 308,
   "metadata": {
    "collapsed": false
   },
   "outputs": [
    {
     "name": "stdout",
     "output_type": "stream",
     "text": [
      "1\n",
      "1\n",
      "-1\n",
      "1\n",
      "-1\n",
      "0\n"
     ]
    }
   ],
   "source": [
    "board = root.board\n",
    "rows = len(board)\n",
    "cols = len(board[0])\n",
    "def Winner(board):\n",
    "    for i in range(0,rows):\n",
    "        row = board[i,:]\n",
    "        if sum(row) == x*cols:\n",
    "            return x\n",
    "        elif sum(row) == oh*cols:\n",
    "            return oh\n",
    "    for j in range(0, cols):\n",
    "        col = board[:,j]\n",
    "        if sum(col) == x*rows:\n",
    "            return x\n",
    "        elif sum(col) == oh*rows:\n",
    "            return oh\n",
    "    diag_right = board.diagonal()\n",
    "    diag_left = board[:, ::-1].diagonal()\n",
    "    if sum(diag_right) == x*rows:\n",
    "        return x\n",
    "    if sum(diag_left) == x*rows:\n",
    "        return x\n",
    "    if sum(diag_right) == oh*rows:\n",
    "        return oh\n",
    "    if sum(diag_left) == oh*rows:\n",
    "        return oh\n",
    "    return 0\n",
    "print(Winner(np.array([[x,x,x], [0,0,0], [0,oh,oh]])))\n",
    "print(Winner(np.array([[x,oh,0], [x,0,0], [x,oh,oh]])))\n",
    "print(Winner(np.array([[x,oh,0], [x,oh,0], [oh,oh,0]])))\n",
    "print(Winner(np.array([[x,oh,0], [x,x,0], [oh,oh,x]])))\n",
    "print(Winner(np.array([[x,oh,oh], [x,oh,0], [oh,0,0]])))\n",
    "print(Winner(init_board))\n"
   ]
  },
  {
   "cell_type": "code",
   "execution_count": 321,
   "metadata": {
    "collapsed": false,
    "scrolled": true
   },
   "outputs": [],
   "source": [
    "def solve(root, next_player):\n",
    "    winner = Winner(root.board)\n",
    "    if winner != 0:\n",
    "        root.prob = 0.0 if winner == oh else 1.0\n",
    "        return\n",
    "    root.prob = 0.0\n",
    "    for i in range(len(board)):\n",
    "        for j in range(len(board[0])):\n",
    "            expand(root, (i,j), next_player)\n",
    "    if len(root.children) == 0:\n",
    "        return\n",
    "    for child in root.children.values():\n",
    "        solve(child, next_player * -1)\n",
    "        root.prob += child.prob\n",
    "    root.prob /= len(root.children)\n",
    "\n",
    "root = Node(init_board, 0)\n",
    "solve(root, x)"
   ]
  },
  {
   "cell_type": "code",
   "execution_count": 310,
   "metadata": {
    "collapsed": false
   },
   "outputs": [
    {
     "data": {
      "text/plain": [
       "\n",
       "\t\t\t\t\t[[ 1  1  1]\n",
       "\t\t\t\t\t [-1 -1  0]\n",
       "\t\t\t\t\t [ 0  0  0]] 1.0 []"
      ]
     },
     "execution_count": 310,
     "metadata": {},
     "output_type": "execute_result"
    }
   ],
   "source": [
    "def play_x(node):\n",
    "    return max(node.children.values(), key= lambda x: x.prob)\n",
    "def play_oh(node):\n",
    "    return min(node.children.values(), key= lambda x: x.prob)\n",
    "play_x(play_x(play_x(root).children.values()[0]).children.values()[0])"
   ]
  },
  {
   "cell_type": "markdown",
   "metadata": {},
   "source": [
    "# Play TicTacToe Against the Computer"
   ]
  },
  {
   "cell_type": "code",
   "execution_count": 360,
   "metadata": {
    "collapsed": false
   },
   "outputs": [
    {
     "name": "stdout",
     "output_type": "stream",
     "text": [
      "array([[0, 0, 0],\n",
      "       [0, 0, 0],\n",
      "       [0, 0, 0]])\n"
     ]
    }
   ],
   "source": [
    "node = root\n",
    "print(repr(node.board))"
   ]
  },
  {
   "cell_type": "markdown",
   "metadata": {},
   "source": [
    "### The computer's move:"
   ]
  },
  {
   "cell_type": "code",
   "execution_count": 368,
   "metadata": {
    "collapsed": false
   },
   "outputs": [
    {
     "name": "stdout",
     "output_type": "stream",
     "text": [
      "array([[ 1, -1,  1],\n",
      "       [ 0, -1, -1],\n",
      "       [-1,  1,  1]])\n"
     ]
    }
   ],
   "source": [
    "node = play_oh(node)\n",
    "print(repr(node.board))"
   ]
  },
  {
   "cell_type": "markdown",
   "metadata": {},
   "source": [
    "### Your move:"
   ]
  },
  {
   "cell_type": "code",
   "execution_count": 369,
   "metadata": {
    "collapsed": false
   },
   "outputs": [
    {
     "name": "stdout",
     "output_type": "stream",
     "text": [
      "array([[ 1, -1,  1],\n",
      "       [ 1, -1, -1],\n",
      "       [-1,  1,  1]])\n"
     ]
    }
   ],
   "source": [
    "node = node.children[(1,(1,0))]\n",
    "print(repr(node.board))"
   ]
  },
  {
   "cell_type": "code",
   "execution_count": null,
   "metadata": {
    "collapsed": false
   },
   "outputs": [],
   "source": []
  },
  {
   "cell_type": "code",
   "execution_count": null,
   "metadata": {
    "collapsed": true
   },
   "outputs": [],
   "source": []
  }
 ],
 "metadata": {
  "kernelspec": {
   "display_name": "Python 2",
   "language": "python",
   "name": "python2"
  },
  "language_info": {
   "codemirror_mode": {
    "name": "ipython",
    "version": 2
   },
   "file_extension": ".py",
   "mimetype": "text/x-python",
   "name": "python",
   "nbconvert_exporter": "python",
   "pygments_lexer": "ipython2",
   "version": "2.7.6"
  }
 },
 "nbformat": 4,
 "nbformat_minor": 0
}
