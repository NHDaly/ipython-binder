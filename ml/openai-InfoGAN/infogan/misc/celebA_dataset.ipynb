{
 "cells": [
  {
   "cell_type": "code",
   "execution_count": 18,
   "metadata": {
    "collapsed": false
   },
   "outputs": [],
   "source": [
    "import numpy as np\n",
    "import os,sys, re\n",
    "from scipy import ndimage, misc\n",
    "\n",
    "module_path = os.path.abspath(os.path.join('..','..'))   # This is an unfortunate hack to get\n",
    "if module_path not in sys.path:                          #  relative imports from an .ipynb file\n",
    "    sys.path.append(module_path)                         #  to other adjacent modules.\n",
    "\n",
    "from infogan.misc.datasets import Dataset"
   ]
  },
  {
   "cell_type": "code",
   "execution_count": 22,
   "metadata": {
    "collapsed": true
   },
   "outputs": [],
   "source": [
    "def load_all_images_from_dir(directory_path, num_images_to_grab = None, crop_size = (32,32)):\n",
    "    '''\n",
    "    num_images_to_grab -- if None, load all images in directory_path, else only load up to num_images_to_grab.\n",
    "    crop_size -- crops all images to crop_size.\n",
    "    returns a list of images as np.arrays.\n",
    "    '''\n",
    "    images = []\n",
    "    for root, dirnames, filenames in os.walk(directory_path):\n",
    "        for filename in filenames:\n",
    "            if num_images_to_grab is not None and len(images) >= num_images_to_grab:\n",
    "                break\n",
    "            if re.search(\"\\.(jpg|jpeg|png|bmp|tiff)$\", filename):\n",
    "                filepath = os.path.join(root, filename)\n",
    "                image = ndimage.imread(filepath, mode=\"RGB\")\n",
    "                image_resized = misc.imresize(image, crop_size)\n",
    "                images.append(np.asarray(image_resized))\n",
    "    return images\n",
    "\n",
    "def ParitionData(images):\n",
    "    num_total_inputs = len(images)\n",
    "\n",
    "    train_images = images[0:num_total_inputs*6/10]\n",
    "    cv_images    = images[num_total_inputs*6/10:num_total_inputs*8/10]\n",
    "    test_images  = images[num_total_inputs*8/10:]\n",
    "    \n",
    "    return train_images, cv_images, test_images"
   ]
  },
  {
   "cell_type": "code",
   "execution_count": 23,
   "metadata": {
    "collapsed": true
   },
   "outputs": [],
   "source": [
    "class CelebADataset(object):\n",
    "    def __init__(self, num_images_to_grab = None):\n",
    "        data_directory = \"celebA/img_align_celeba/\"\n",
    "        if not os.path.exists(data_directory):\n",
    "            os.makedirs(data_directory)\n",
    "\n",
    "        self.image_dim = 32*32*3\n",
    "        self.image_shape = (32,32,3)\n",
    "\n",
    "        raw_images = load_all_images_from_dir(data_directory, num_images_to_grab, (32,32))\n",
    "        self.raw_images = [img.reshape(self.image_shape) for img in raw_images]\n",
    "        train_images, cv_images, test_images = ParitionData([x.flatten() for x in self.raw_images])\n",
    "\n",
    "        self.train = Dataset(np.asarray(train_images))\n",
    "        self.validation = Dataset(np.asarray(cv_images))\n",
    "        self.test = Dataset(np.asarray(test_images))\n",
    "\n",
    "    def transform(self, data):\n",
    "        return data\n",
    "\n",
    "    def inverse_transform(self, data):\n",
    "        return data\n"
   ]
  },
  {
   "cell_type": "code",
   "execution_count": null,
   "metadata": {
    "collapsed": false
   },
   "outputs": [],
   "source": []
  }
 ],
 "metadata": {
  "anaconda-cloud": {},
  "kernelspec": {
   "display_name": "Python [conda env:p2]",
   "language": "python",
   "name": "conda-env-p2-py"
  },
  "language_info": {
   "codemirror_mode": {
    "name": "ipython",
    "version": 2
   },
   "file_extension": ".py",
   "mimetype": "text/x-python",
   "name": "python",
   "nbconvert_exporter": "python",
   "pygments_lexer": "ipython2",
   "version": "2.7.12"
  }
 },
 "nbformat": 4,
 "nbformat_minor": 1
}
