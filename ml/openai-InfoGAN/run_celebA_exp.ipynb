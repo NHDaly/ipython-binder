{
 "cells": [
  {
   "cell_type": "code",
   "execution_count": null,
   "metadata": {
    "collapsed": false
   },
   "outputs": [],
   "source": [
    "from __future__ import print_function\n",
    "from __future__ import absolute_import\n",
    "from infogan.misc.distributions import Uniform, Categorical, Gaussian, MeanBernoulli\n",
    "\n",
    "import tensorflow as tf\n",
    "from infogan.misc.celebA_dataset import CelebADataset\n",
    "from infogan.models.regularized_gan import RegularizedGAN\n",
    "from infogan.algos.infogan_trainer import InfoGANTrainer\n",
    "from infogan.misc.utils import mkdir_p\n",
    "import dateutil\n",
    "import dateutil.tz\n",
    "import datetime\n",
    "import os\n",
    "\n",
    "import numpy as np"
   ]
  },
  {
   "cell_type": "code",
   "execution_count": null,
   "metadata": {
    "collapsed": false
   },
   "outputs": [],
   "source": [
    "#%matplotlib inline"
   ]
  },
  {
   "cell_type": "code",
   "execution_count": null,
   "metadata": {
    "collapsed": false
   },
   "outputs": [],
   "source": [
    "root_log_dir = \"logs/celebA\"\n",
    "root_checkpoint_dir = \"ckt/celebA\"\n",
    "batch_size = 128\n",
    "updates_per_epoch = 100    # How often to run the logging.\n",
    "checkpoint_snapshot_interval = 1000  # Save a snapshot of the model every __ updates.\n",
    "max_epoch = 50"
   ]
  },
  {
   "cell_type": "code",
   "execution_count": null,
   "metadata": {
    "collapsed": true
   },
   "outputs": [],
   "source": [
    "# The \"C.3 CelebA\" input settings:\n",
    "# \"For this task, we use 10 ten-dimensional categorical code and 128 noise variables, resulting in a concatenated dimension of 228..\"\n",
    "c3_celebA_latent_spec = [\n",
    "    (Uniform(128), False),  # Noise\n",
    "    (Categorical(10), True),\n",
    "    (Categorical(10), True),\n",
    "    (Categorical(10), True),\n",
    "    (Categorical(10), True),\n",
    "    (Categorical(10), True),\n",
    "    (Categorical(10), True),\n",
    "    (Categorical(10), True),\n",
    "    (Categorical(10), True),\n",
    "    (Categorical(10), True),\n",
    "    (Categorical(10), True),\n",
    "]\n",
    "c3_celebA_image_size = 32"
   ]
  },
  {
   "cell_type": "code",
   "execution_count": null,
   "metadata": {
    "collapsed": false
   },
   "outputs": [],
   "source": [
    "dataset = CelebADataset()  # The full dataset is enourmous (202,599 frames).\n",
    "\n",
    "print(\"Loaded {} images into Dataset.\".format(len(dataset.raw_images)))\n",
    "print(\"Split {} images into training set.\".format(len(dataset.train.images)))\n",
    "print(\"Image shape: \",dataset.image_shape)"
   ]
  },
  {
   "cell_type": "code",
   "execution_count": null,
   "metadata": {
    "collapsed": true
   },
   "outputs": [],
   "source": [
    "model = RegularizedGAN(\n",
    "    output_dist=MeanBernoulli(dataset.image_dim),\n",
    "    latent_spec=c3_celebA_latent_spec,  # Trying with the above celebA latent_spec.\n",
    "    batch_size=batch_size,\n",
    "    image_shape=dataset.image_shape,\n",
    "    # Trying with my new celebA network!\n",
    "    network_type=\"celebA\",\n",
    ")"
   ]
  },
  {
   "cell_type": "code",
   "execution_count": null,
   "metadata": {
    "collapsed": false,
    "scrolled": true
   },
   "outputs": [],
   "source": [
    "now = datetime.datetime.now(dateutil.tz.tzlocal())\n",
    "timestamp = now.strftime('%Y_%m_%d_%H_%M_%S')\n",
    "exp_name = \"celebA_model_celebA_codes_color_img-align-celeba_10_%s\" % timestamp\n",
    "\n",
    "log_dir = os.path.join(root_log_dir, exp_name)\n",
    "checkpoint_dir = os.path.join(root_checkpoint_dir, exp_name)\n",
    "\n",
    "mkdir_p(log_dir)\n",
    "mkdir_p(checkpoint_dir)\n",
    "\n",
    "algo = InfoGANTrainer(\n",
    "    model=model,\n",
    "    dataset=dataset,\n",
    "    batch_size=batch_size,\n",
    "    exp_name=exp_name,\n",
    "    log_dir=log_dir,\n",
    "    checkpoint_dir=checkpoint_dir,\n",
    "    max_epoch=max_epoch,\n",
    "    updates_per_epoch=updates_per_epoch,\n",
    "    snapshot_interval=checkpoint_snapshot_interval,\n",
    "    info_reg_coeff=1.0,\n",
    "    generator_learning_rate=1e-3,  # original paper's learning rate was 1e-3\n",
    "    discriminator_learning_rate=2e-4,  # original paper's learning rate was 2e-4\n",
    ")"
   ]
  },
  {
   "cell_type": "code",
   "execution_count": null,
   "metadata": {
    "collapsed": true
   },
   "outputs": [],
   "source": [
    "#algo.visualize_all_factors()  # ... what does this do?"
   ]
  },
  {
   "cell_type": "code",
   "execution_count": null,
   "metadata": {
    "collapsed": false,
    "scrolled": true
   },
   "outputs": [],
   "source": [
    "algo.train()"
   ]
  },
  {
   "cell_type": "code",
   "execution_count": null,
   "metadata": {
    "collapsed": true
   },
   "outputs": [],
   "source": []
  },
  {
   "cell_type": "code",
   "execution_count": null,
   "metadata": {
    "collapsed": false
   },
   "outputs": [],
   "source": [
    "def play_frames_clip(frames):\n",
    "    ''' frames -- a list/array of np.array images. Plays all frames in the notebook as a clip.'''\n",
    "    from matplotlib import pyplot as plt\n",
    "    from IPython import display\n",
    "\n",
    "    for frame in frames:\n",
    "        plt.imshow(frame)\n",
    "        display.display(plt.gcf())\n",
    "        display.clear_output(wait=True)\n",
    "\n",
    "print(\"Displaying some training Images...\")\n",
    "play_frames_clip([frame.reshape(dataset.image_shape) for frame in dataset.train.images[10:20]])\n",
    "print(dataset.image_shape)\n"
   ]
  },
  {
   "cell_type": "code",
   "execution_count": null,
   "metadata": {
    "collapsed": true
   },
   "outputs": [],
   "source": []
  },
  {
   "cell_type": "code",
   "execution_count": null,
   "metadata": {
    "collapsed": false
   },
   "outputs": [],
   "source": []
  },
  {
   "cell_type": "code",
   "execution_count": null,
   "metadata": {
    "collapsed": false,
    "scrolled": true
   },
   "outputs": [],
   "source": []
  },
  {
   "cell_type": "code",
   "execution_count": null,
   "metadata": {
    "collapsed": true
   },
   "outputs": [],
   "source": []
  }
 ],
 "metadata": {
  "anaconda-cloud": {},
  "kernelspec": {
   "display_name": "Python [conda env:p2]",
   "language": "python",
   "name": "conda-env-p2-py"
  },
  "language_info": {
   "codemirror_mode": {
    "name": "ipython",
    "version": 2
   },
   "file_extension": ".py",
   "mimetype": "text/x-python",
   "name": "python",
   "nbconvert_exporter": "python",
   "pygments_lexer": "ipython2",
   "version": "2.7.12"
  }
 },
 "nbformat": 4,
 "nbformat_minor": 0
}
