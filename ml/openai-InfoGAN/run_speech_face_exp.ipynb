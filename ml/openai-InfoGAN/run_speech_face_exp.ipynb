{
 "cells": [
  {
   "cell_type": "code",
   "execution_count": 2,
   "metadata": {
    "collapsed": false
   },
   "outputs": [],
   "source": [
    "from __future__ import print_function\n",
    "from __future__ import absolute_import\n",
    "from infogan.misc.distributions import Uniform, Categorical, Gaussian, MeanBernoulli\n",
    "\n",
    "\n",
    "import tensorflow as tf\n",
    "import os\n",
    "from infogan.misc.datasets import Dataset, MnistDataset\n",
    "from infogan.models.regularized_gan import RegularizedGAN\n",
    "from infogan.algos.infogan_trainer import InfoGANTrainer\n",
    "from infogan.misc.utils import mkdir_p\n",
    "import dateutil\n",
    "import dateutil.tz\n",
    "import datetime\n",
    "\n",
    "import numpy as np\n",
    "\n",
    "from celebA_dataset import CelebADataset\n",
    "\n",
    "FFMPEG_BIN = 'ffmpeg'"
   ]
  },
  {
   "cell_type": "code",
   "execution_count": 3,
   "metadata": {
    "collapsed": false
   },
   "outputs": [],
   "source": [
    "#%matplotlib inline"
   ]
  },
  {
   "cell_type": "code",
   "execution_count": 4,
   "metadata": {
    "collapsed": true
   },
   "outputs": [],
   "source": [
    "def ParitionData(images):\n",
    "    num_total_inputs = len(images)\n",
    "\n",
    "    train_images = images[0:num_total_inputs*6/10]\n",
    "    cv_images    = images[num_total_inputs*6/10:num_total_inputs*8/10]\n",
    "    test_images  = images[num_total_inputs*8/10:]\n",
    "    \n",
    "    return train_images, cv_images, test_images\n",
    "def normalize(x):\n",
    "    mu = np.mean(x)\n",
    "    sigma = np.std(x)\n",
    "    x_norm = (x - mu) / sigma  # All element-wise\n",
    "    return x_norm\n"
   ]
  },
  {
   "cell_type": "code",
   "execution_count": 5,
   "metadata": {
    "collapsed": false
   },
   "outputs": [],
   "source": [
    "class SpeechFramesDataset(object):\n",
    "    def __init__(self, video_file, image_width, image_height, image_depth = 1, normalize_images = False):\n",
    "        self.frame_width  = image_width\n",
    "        self.frame_height = image_height\n",
    "        self.frame_depth  = image_depth # (number of colors)\n",
    "        self.image_shape = (self.frame_height, self.frame_width, self.frame_depth)\n",
    "        self.image_dim = self.frame_height * self.frame_width * self.frame_depth\n",
    "\n",
    "        self.raw_images = self._load_frames(video_file)\n",
    "        self.normalized_images = [normalize(x) for x in self.raw_images]\n",
    "        dataset = self.normalized_images if normalize == True else self.raw_images\n",
    "        train_images, cv_images, test_images = ParitionData(dataset)\n",
    "\n",
    "        self.train = Dataset(np.asarray(train_images))\n",
    "        self.validation = Dataset(np.asarray(cv_images))\n",
    "        self.test = Dataset(np.asarray(test_images))\n",
    "        \n",
    "    def _open_video_pipe(self, video_file):\n",
    "        import subprocess as sp\n",
    "        pix_fmt = ''\n",
    "        if self.frame_depth == 1:   pix_fmt = 'gray'\n",
    "        elif self.frame_depth == 3: pix_fmt = 'rgb24'\n",
    "        else:                       raise \"Bad image_depth\"\n",
    "        command = [ FFMPEG_BIN,\n",
    "            '-i', video_file,\n",
    "            '-f', 'image2pipe',\n",
    "            '-pix_fmt', pix_fmt,\n",
    "            '-s', '{0}x{1}'.format(self.frame_width, self.frame_height), # -s 1280x960\n",
    "            '-vcodec', 'rawvideo', '-']\n",
    "        self.video_pipe = sp.Popen(command, stdout = sp.PIPE, bufsize=10**8)\n",
    "\n",
    "    def _load_frames(self, video_file):\n",
    "        ''' Import the movie file into a python array of images. '''\n",
    "        self._open_video_pipe(video_file)\n",
    "        self.frames = []\n",
    "        while self.video_pipe:\n",
    "            # read 1 frame bytes\n",
    "            raw_image = self.video_pipe.stdout.read(self.image_dim)\n",
    "            if not raw_image:\n",
    "                break\n",
    "            # transform the byte read into a numpy array\n",
    "            image =  np.fromstring(raw_image, dtype='uint8')\n",
    "            if np.isnan(np.sum(image)):\n",
    "                raise Exception, \"raw_image contained NaN!!: \"+str(raw_image)\n",
    "            #image = image.reshape(frame_dim)\n",
    "            self.frames.append(image)\n",
    "            # throw away the data in the pipe's buffer.\n",
    "            self.video_pipe.stdout.flush()\n",
    "        self.video_pipe = None\n",
    "        return self.frames\n",
    "    \n",
    "    def transform(self, data):\n",
    "        return data\n",
    "\n",
    "    def inverse_transform(self, data):\n",
    "        return data\n"
   ]
  },
  {
   "cell_type": "code",
   "execution_count": 6,
   "metadata": {
    "collapsed": false
   },
   "outputs": [],
   "source": [
    "root_log_dir = \"logs/speech_face\"\n",
    "root_checkpoint_dir = \"ckt/speech_face\"\n",
    "batch_size = 128\n",
    "updates_per_epoch = 50    # How often to run the logging.\n",
    "checkpoint_snapshot_interval = 1000  # Save a snapshot of the model every __ updates.\n",
    "max_epoch = 200"
   ]
  },
  {
   "cell_type": "code",
   "execution_count": 7,
   "metadata": {
    "collapsed": true
   },
   "outputs": [],
   "source": [
    "# For now, copy the \"C.3 CelebA\" input settings:\n",
    "# \"For this task, we use 10 ten-dimensional categorical code and 128 noise variables, resulting in a concatenated dimension of 228..\"\n",
    "c3_celebA_latent_spec = [\n",
    "    (Uniform(128), False),  # Noise\n",
    "    (Categorical(10), True),\n",
    "    (Categorical(10), True),\n",
    "    (Categorical(10), True),\n",
    "    (Categorical(10), True),\n",
    "    (Categorical(10), True),\n",
    "    (Categorical(10), True),\n",
    "    (Categorical(10), True),\n",
    "    (Categorical(10), True),\n",
    "    (Categorical(10), True),\n",
    "    (Categorical(10), True),\n",
    "]\n",
    "c3_celebA_image_size = 32\n",
    "\n",
    "# For now, copy the \"C.4 Faces\" input settings:\n",
    "# \"For this task, we use 5 continuous latent codes and 128 noise variables, so the input to the generator has dimension 133.\"\n",
    "c4_faces_latent_spec = [\n",
    "    (Uniform(128), False),  # Noise\n",
    "    (Uniform(1, fix_std=True), True),\n",
    "    (Uniform(1, fix_std=True), True),\n",
    "    (Uniform(1, fix_std=True), True),\n",
    "    (Uniform(1, fix_std=True), True),\n",
    "    (Uniform(1, fix_std=True), True),\n",
    "]\n",
    "c3_faces_image_size = 32\n",
    "\n",
    "# Trying with the mnist latent_spec.\n",
    "c1_mnist_latent_spec = [\n",
    "    (Uniform(62), False),\n",
    "    (Categorical(10), True),\n",
    "    (Uniform(1, fix_std=True), True),\n",
    "    (Uniform(1, fix_std=True), True),\n",
    "]\n",
    "c3_mnist_image_size = 28"
   ]
  },
  {
   "cell_type": "code",
   "execution_count": 8,
   "metadata": {
    "collapsed": false
   },
   "outputs": [
    {
     "name": "stdout",
     "output_type": "stream",
     "text": [
      "10\n",
      "6\n"
     ]
    }
   ],
   "source": [
    "grayscale = 1\n",
    "color = 3\n",
    "#dataset = SpeechFramesDataset('../fareeds_take.2015.09.21.speech.full_res.crop.048x054.mov',\n",
    "#                              c3_celebA_image_size, c3_celebA_image_size, color, normalize_images=False)\n",
    "#dataset = MnistDataset()\n",
    "dataset = CelebADataset(10)  # The full dataset is enourmous (202,599 frames). Currently, I have only 4739 frames from Fareed dataset.\n",
    "\n",
    "print(len(dataset.raw_images))\n",
    "print(len(dataset.train.images))"
   ]
  },
  {
   "cell_type": "code",
   "execution_count": null,
   "metadata": {
    "collapsed": false
   },
   "outputs": [],
   "source": []
  },
  {
   "cell_type": "code",
   "execution_count": 9,
   "metadata": {
    "collapsed": false
   },
   "outputs": [
    {
     "name": "stdout",
     "output_type": "stream",
     "text": [
      "(32, 32, 3)\n"
     ]
    }
   ],
   "source": [
    "print(dataset.image_shape)"
   ]
  },
  {
   "cell_type": "code",
   "execution_count": null,
   "metadata": {
    "collapsed": false
   },
   "outputs": [],
   "source": []
  },
  {
   "cell_type": "code",
   "execution_count": 10,
   "metadata": {
    "collapsed": true
   },
   "outputs": [],
   "source": [
    "model = RegularizedGAN(\n",
    "    output_dist=MeanBernoulli(dataset.image_dim),\n",
    "    latent_spec=c3_celebA_latent_spec,  # For now, trying with the mnist latent_spec.\n",
    "    batch_size=batch_size,\n",
    "    image_shape=dataset.image_shape,\n",
    "    # Trying with my new celebA network!\n",
    "    network_type=\"celebA\",\n",
    ")"
   ]
  },
  {
   "cell_type": "code",
   "execution_count": 11,
   "metadata": {
    "collapsed": false,
    "scrolled": true
   },
   "outputs": [],
   "source": [
    "now = datetime.datetime.now(dateutil.tz.tzlocal())\n",
    "timestamp = now.strftime('%Y_%m_%d_%H_%M_%S')\n",
    "exp_name = \"celebA_model_celebA_codes_color_img-align-celeba_full_%s\" % timestamp\n",
    "\n",
    "log_dir = os.path.join(root_log_dir, exp_name)\n",
    "checkpoint_dir = os.path.join(root_checkpoint_dir, exp_name)\n",
    "\n",
    "mkdir_p(log_dir)\n",
    "mkdir_p(checkpoint_dir)\n",
    "\n",
    "algo = InfoGANTrainer(\n",
    "    model=model,\n",
    "    dataset=dataset,\n",
    "    batch_size=batch_size,\n",
    "    exp_name=exp_name,\n",
    "    log_dir=log_dir,\n",
    "    checkpoint_dir=checkpoint_dir,\n",
    "    max_epoch=max_epoch,\n",
    "    updates_per_epoch=updates_per_epoch,\n",
    "    snapshot_interval=checkpoint_snapshot_interval,\n",
    "    info_reg_coeff=1.0,\n",
    "    generator_learning_rate=1e-3,  # original paper's learning rate was 1e-3\n",
    "    discriminator_learning_rate=2e-4,  # original paper's learning rate was 2e-4\n",
    ")"
   ]
  },
  {
   "cell_type": "code",
   "execution_count": null,
   "metadata": {
    "collapsed": true
   },
   "outputs": [],
   "source": [
    "# algo.visualize_all_factors()  # ... what does this do?"
   ]
  },
  {
   "cell_type": "code",
   "execution_count": null,
   "metadata": {
    "collapsed": false,
    "scrolled": true
   },
   "outputs": [
    {
     "name": "stderr",
     "output_type": "stream",
     "text": []
    },
    {
     "name": "stdout",
     "output_type": "stream",
     "text": [
      "Epoch 0 | discriminator_loss: 0.181141; generator_loss: 2.93038; MI_disc: 1.14027; CrossEnt_disc: 21.8856; MI: 1.14027; CrossEnt: 21.8856; max_real_d: 0.993874; min_real_d: 0.478893; max_fake_d: 0.102598; min_fake_d: 0.0440776\n"
     ]
    },
    {
     "name": "stderr",
     "output_type": "stream",
     "text": []
    },
    {
     "name": "stdout",
     "output_type": "stream",
     "text": [
      "Epoch 1 | discriminator_loss: 0.0515191; generator_loss: 3.91421; MI_disc: 2.71436; CrossEnt_disc: 20.3115; MI: 2.71436; CrossEnt: 20.3115; max_real_d: 0.999846; min_real_d: 0.70418; max_fake_d: 0.0238274; min_fake_d: 0.0179288\n"
     ]
    },
    {
     "name": "stderr",
     "output_type": "stream",
     "text": []
    },
    {
     "name": "stdout",
     "output_type": "stream",
     "text": [
      "Epoch 2 | discriminator_loss: 0.0673934; generator_loss: 3.71465; MI_disc: 3.64698; CrossEnt_disc: 19.3789; MI: 3.64698; CrossEnt: 19.3789; max_real_d: 0.9999; min_real_d: 0.568537; max_fake_d: 0.0329462; min_fake_d: 0.0252114\n"
     ]
    },
    {
     "name": "stderr",
     "output_type": "stream",
     "text": []
    },
    {
     "name": "stdout",
     "output_type": "stream",
     "text": [
      "Epoch 3 | discriminator_loss: 0.0386239; generator_loss: 4.11985; MI_disc: 4.79575; CrossEnt_disc: 18.2301; MI: 4.79575; CrossEnt: 18.2301; max_real_d: 0.999961; min_real_d: 0.700202; max_fake_d: 0.0190511; min_fake_d: 0.0149996\n"
     ]
    },
    {
     "name": "stderr",
     "output_type": "stream",
     "text": []
    },
    {
     "name": "stdout",
     "output_type": "stream",
     "text": [
      "Epoch 4 | discriminator_loss: 0.0269814; generator_loss: 4.56761; MI_disc: 5.91385; CrossEnt_disc: 17.112; MI: 5.91385; CrossEnt: 17.112; max_real_d: 0.999968; min_real_d: 0.757736; max_fake_d: 0.0125477; min_fake_d: 0.0100934\n"
     ]
    },
    {
     "name": "stderr",
     "output_type": "stream",
     "text": []
    },
    {
     "name": "stdout",
     "output_type": "stream",
     "text": [
      "Epoch 5 | discriminator_loss: 0.0117161; generator_loss: 5.24114; MI_disc: 7.02329; CrossEnt_disc: 16.0026; MI: 7.02329; CrossEnt: 16.0026; max_real_d: 0.999991; min_real_d: 0.885281; max_fake_d: 0.00625324; min_fake_d: 0.00497815\n"
     ]
    },
    {
     "name": "stderr",
     "output_type": "stream",
     "text": []
    },
    {
     "name": "stdout",
     "output_type": "stream",
     "text": [
      "Epoch 6 | discriminator_loss: 0.013076; generator_loss: 5.1783; MI_disc: 7.77918; CrossEnt_disc: 15.2467; MI: 7.77918; CrossEnt: 15.2467; max_real_d: 0.999998; min_real_d: 0.860717; max_fake_d: 0.00674092; min_fake_d: 0.00529706\n"
     ]
    },
    {
     "name": "stderr",
     "output_type": "stream",
     "text": []
    },
    {
     "name": "stdout",
     "output_type": "stream",
     "text": [
      "Epoch 7 | discriminator_loss: 0.0204249; generator_loss: 4.74932; MI_disc: 8.57734; CrossEnt_disc: 14.4485; MI: 8.57734; CrossEnt: 14.4485; max_real_d: 0.999994; min_real_d: 0.809838; max_fake_d: 0.0100142; min_fake_d: 0.00821178\n"
     ]
    },
    {
     "name": "stderr",
     "output_type": "stream",
     "text": []
    },
    {
     "name": "stdout",
     "output_type": "stream",
     "text": [
      "Epoch 8 | discriminator_loss: 0.0121608; generator_loss: 5.32479; MI_disc: 9.65813; CrossEnt_disc: 13.3677; MI: 9.65813; CrossEnt: 13.3677; max_real_d: 0.999985; min_real_d: 0.897511; max_fake_d: 0.00541418; min_fake_d: 0.00470902\n"
     ]
    },
    {
     "name": "stderr",
     "output_type": "stream",
     "text": []
    },
    {
     "name": "stdout",
     "output_type": "stream",
     "text": [
      "Epoch 9 | discriminator_loss: 0.00477716; generator_loss: 6.28018; MI_disc: 10.6809; CrossEnt_disc: 12.345; MI: 10.6809; CrossEnt: 12.345; max_real_d: 0.999996; min_real_d: 0.95983; max_fake_d: 0.00203435; min_fake_d: 0.00183254\n"
     ]
    },
    {
     "name": "stderr",
     "output_type": "stream",
     "text": []
    },
    {
     "name": "stdout",
     "output_type": "stream",
     "text": [
      "Epoch 10 | discriminator_loss: 0.00264317; generator_loss: 6.79909; MI_disc: 11.5208; CrossEnt_disc: 11.505; MI: 11.5208; CrossEnt: 11.505; max_real_d: 0.999998; min_real_d: 0.976212; max_fake_d: 0.0011875; min_fake_d: 0.00106587\n"
     ]
    },
    {
     "name": "stderr",
     "output_type": "stream",
     "text": []
    },
    {
     "name": "stdout",
     "output_type": "stream",
     "text": [
      "Epoch 11 | discriminator_loss: 0.00202473; generator_loss: 6.92923; MI_disc: 12.2575; CrossEnt_disc: 10.7683; MI: 12.2575; CrossEnt: 10.7683; max_real_d: 0.999998; min_real_d: 0.983261; max_fake_d: 0.00105288; min_fake_d: 0.000918755\n"
     ]
    },
    {
     "name": "stderr",
     "output_type": "stream",
     "text": []
    },
    {
     "name": "stdout",
     "output_type": "stream",
     "text": [
      "Epoch 12 | discriminator_loss: 0.00294821; generator_loss: 6.52632; MI_disc: 12.9419; CrossEnt_disc: 10.084; MI: 12.9419; CrossEnt: 10.084; max_real_d: 0.999999; min_real_d: 0.974668; max_fake_d: 0.00168866; min_fake_d: 0.0014488\n"
     ]
    },
    {
     "name": "stderr",
     "output_type": "stream",
     "text": []
    },
    {
     "name": "stdout",
     "output_type": "stream",
     "text": [
      "Epoch 13 | discriminator_loss: 0.0045148; generator_loss: 6.12786; MI_disc: 13.5379; CrossEnt_disc: 9.48793; MI: 13.5379; CrossEnt: 9.48793; max_real_d: 0.999997; min_real_d: 0.962279; max_fake_d: 0.00241013; min_fake_d: 0.00207534\n"
     ]
    },
    {
     "name": "stderr",
     "output_type": "stream",
     "text": []
    },
    {
     "name": "stdout",
     "output_type": "stream",
     "text": [
      "Epoch 14 | discriminator_loss: 0.00709471; generator_loss: 5.74059; MI_disc: 14.075; CrossEnt_disc: 8.95084; MI: 14.075; CrossEnt: 8.95084; max_real_d: 0.999994; min_real_d: 0.938164; max_fake_d: 0.00359394; min_fake_d: 0.00308922\n"
     ]
    },
    {
     "name": "stderr",
     "output_type": "stream",
     "text": []
    },
    {
     "name": "stdout",
     "output_type": "stream",
     "text": [
      "Epoch 15 | discriminator_loss: 0.00485148; generator_loss: 6.08318; MI_disc: 14.7335; CrossEnt_disc: 8.2924; MI: 14.7335; CrossEnt: 8.2924; max_real_d: 0.999996; min_real_d: 0.96137; max_fake_d: 0.00251969; min_fake_d: 0.00219691\n"
     ]
    },
    {
     "name": "stderr",
     "output_type": "stream",
     "text": []
    },
    {
     "name": "stdout",
     "output_type": "stream",
     "text": [
      "Epoch 16 | discriminator_loss: 0.00402333; generator_loss: 6.24867; MI_disc: 15.2876; CrossEnt_disc: 7.73825; MI: 15.2876; CrossEnt: 7.73825; max_real_d: 0.999998; min_real_d: 0.969279; max_fake_d: 0.00209342; min_fake_d: 0.00183182\n"
     ]
    },
    {
     "name": "stderr",
     "output_type": "stream",
     "text": []
    },
    {
     "name": "stdout",
     "output_type": "stream",
     "text": [
      "Epoch 17 | discriminator_loss: 0.00293367; generator_loss: 6.5844; MI_disc: 15.8875; CrossEnt_disc: 7.13834; MI: 15.8875; CrossEnt: 7.13834; max_real_d: 0.999996; min_real_d: 0.978165; max_fake_d: 0.00152206; min_fake_d: 0.00132556\n"
     ]
    },
    {
     "name": "stderr",
     "output_type": "stream",
     "text": []
    },
    {
     "name": "stdout",
     "output_type": "stream",
     "text": [
      "Epoch 18 | discriminator_loss: 0.00347941; generator_loss: 6.38417; MI_disc: 16.2805; CrossEnt_disc: 6.74539; MI: 16.2805; CrossEnt: 6.74539; max_real_d: 0.999996; min_real_d: 0.977656; max_fake_d: 0.00185353; min_fake_d: 0.00159631\n"
     ]
    },
    {
     "name": "stderr",
     "output_type": "stream",
     "text": []
    },
    {
     "name": "stdout",
     "output_type": "stream",
     "text": [
      "Model saved in file: ckt/speech_face/celebA_model_celebA_codes_color_img-align-celeba_2016_10_04_14_50_34/celebA_model_celebA_codes_color_img-align-celeba_2016_10_04_14_50_34_1000.ckpt\n",
      "Epoch 19 | discriminator_loss: 0.00287448; generator_loss: 6.71527; MI_disc: 16.8084; CrossEnt_disc: 6.21744; MI: 16.8084; CrossEnt: 6.21744; max_real_d: 0.999994; min_real_d: 0.979938; max_fake_d: 0.00133803; min_fake_d: 0.00115961\n"
     ]
    },
    {
     "name": "stderr",
     "output_type": "stream",
     "text": []
    },
    {
     "name": "stdout",
     "output_type": "stream",
     "text": [
      "Epoch 20 | discriminator_loss: 0.00251676; generator_loss: 6.82382; MI_disc: 17.2245; CrossEnt_disc: 5.80131; MI: 17.2245; CrossEnt: 5.80131; max_real_d: 0.999997; min_real_d: 0.983082; max_fake_d: 0.00119758; min_fake_d: 0.00102277\n"
     ]
    },
    {
     "name": "stderr",
     "output_type": "stream",
     "text": []
    },
    {
     "name": "stdout",
     "output_type": "stream",
     "text": [
      "Epoch 21 | discriminator_loss: 0.00321058; generator_loss: 6.58285; MI_disc: 17.5667; CrossEnt_disc: 5.45916; MI: 17.5667; CrossEnt: 5.45916; max_real_d: 0.999997; min_real_d: 0.976496; max_fake_d: 0.00153701; min_fake_d: 0.00131109\n"
     ]
    },
    {
     "name": "stderr",
     "output_type": "stream",
     "text": []
    },
    {
     "name": "stdout",
     "output_type": "stream",
     "text": [
      "Epoch 22 | discriminator_loss: 0.00418692; generator_loss: 6.2642; MI_disc: 17.9254; CrossEnt_disc: 5.10044; MI: 17.9254; CrossEnt: 5.10044; max_real_d: 0.999998; min_real_d: 0.967728; max_fake_d: 0.00214066; min_fake_d: 0.00179805\n"
     ]
    },
    {
     "name": "stderr",
     "output_type": "stream",
     "text": []
    },
    {
     "name": "stdout",
     "output_type": "stream",
     "text": [
      "Epoch 23 | discriminator_loss: 0.00344752; generator_loss: 6.45033; MI_disc: 18.2896; CrossEnt_disc: 4.73621; MI: 18.2896; CrossEnt: 4.73621; max_real_d: 0.999999; min_real_d: 0.974521; max_fake_d: 0.001727; min_fake_d: 0.00148412\n"
     ]
    },
    {
     "name": "stderr",
     "output_type": "stream",
     "text": []
    },
    {
     "name": "stdout",
     "output_type": "stream",
     "text": [
      "Epoch 24 | discriminator_loss: 0.00274809; generator_loss: 6.74063; MI_disc: 18.6117; CrossEnt_disc: 4.41415; MI: 18.6117; CrossEnt: 4.41415; max_real_d: 1.0; min_real_d: 0.975672; max_fake_d: 0.00129407; min_fake_d: 0.00111309\n"
     ]
    },
    {
     "name": "stderr",
     "output_type": "stream",
     "text": []
    },
    {
     "name": "stdout",
     "output_type": "stream",
     "text": [
      "Epoch 25 | discriminator_loss: 0.00226859; generator_loss: 6.91525; MI_disc: 18.8678; CrossEnt_disc: 4.15803; MI: 18.8678; CrossEnt: 4.15803; max_real_d: 1.0; min_real_d: 0.982122; max_fake_d: 0.00109303; min_fake_d: 0.000930455\n"
     ]
    },
    {
     "name": "stderr",
     "output_type": "stream",
     "text": []
    },
    {
     "name": "stdout",
     "output_type": "stream",
     "text": [
      "Epoch 26 | discriminator_loss: 0.00235551; generator_loss: 6.76968; MI_disc: 19.1516; CrossEnt_disc: 3.8743; MI: 19.1516; CrossEnt: 3.8743; max_real_d: 1.0; min_real_d: 0.982734; max_fake_d: 0.00129315; min_fake_d: 0.00111322\n"
     ]
    },
    {
     "name": "stderr",
     "output_type": "stream",
     "text": []
    },
    {
     "name": "stdout",
     "output_type": "stream",
     "text": [
      "Epoch 27 | discriminator_loss: 0.00210014; generator_loss: 6.89006; MI_disc: 19.4148; CrossEnt_disc: 3.61101; MI: 19.4148; CrossEnt: 3.61101; max_real_d: 1.0; min_real_d: 0.983588; max_fake_d: 0.00113528; min_fake_d: 0.000990222\n"
     ]
    },
    {
     "name": "stderr",
     "output_type": "stream",
     "text": []
    },
    {
     "name": "stdout",
     "output_type": "stream",
     "text": [
      "Epoch 28 | discriminator_loss: 0.00198155; generator_loss: 7.02867; MI_disc: 19.6596; CrossEnt_disc: 3.36629; MI: 19.6596; CrossEnt: 3.36629; max_real_d: 0.999999; min_real_d: 0.976476; max_fake_d: 0.000973022; min_fake_d: 0.000838192\n"
     ]
    },
    {
     "name": "stderr",
     "output_type": "stream",
     "text": []
    },
    {
     "name": "stdout",
     "output_type": "stream",
     "text": [
      "Epoch 29 | discriminator_loss: 0.0030478; generator_loss: 6.53996; MI_disc: 19.8193; CrossEnt_disc: 3.20653; MI: 19.8193; CrossEnt: 3.20653; max_real_d: 0.999999; min_real_d: 0.960436; max_fake_d: 0.00161399; min_fake_d: 0.00136295\n"
     ]
    },
    {
     "name": "stderr",
     "output_type": "stream",
     "text": []
    },
    {
     "name": "stdout",
     "output_type": "stream",
     "text": [
      "Epoch 30 | discriminator_loss: 0.0025548; generator_loss: 6.76874; MI_disc: 20.0211; CrossEnt_disc: 3.00478; MI: 20.0211; CrossEnt: 3.00478; max_real_d: 0.999999; min_real_d: 0.96761; max_fake_d: 0.00126484; min_fake_d: 0.00109486\n"
     ]
    },
    {
     "name": "stderr",
     "output_type": "stream",
     "text": []
    },
    {
     "name": "stdout",
     "output_type": "stream",
     "text": [
      "Epoch 31 | discriminator_loss: 0.0022429; generator_loss: 6.92389; MI_disc: 20.2135; CrossEnt_disc: 2.81235; MI: 20.2135; CrossEnt: 2.81235; max_real_d: 1.0; min_real_d: 0.973325; max_fake_d: 0.00107342; min_fake_d: 0.000945764\n"
     ]
    },
    {
     "name": "stderr",
     "output_type": "stream",
     "text": []
    },
    {
     "name": "stdout",
     "output_type": "stream",
     "text": [
      "Epoch 32 | discriminator_loss: 0.00174202; generator_loss: 7.2905; MI_disc: 20.4406; CrossEnt_disc: 2.5853; MI: 20.4406; CrossEnt: 2.5853; max_real_d: 1.0; min_real_d: 0.974692; max_fake_d: 0.000754827; min_fake_d: 0.000660484\n"
     ]
    },
    {
     "name": "stderr",
     "output_type": "stream",
     "text": []
    },
    {
     "name": "stdout",
     "output_type": "stream",
     "text": [
      "Epoch 33 | discriminator_loss: 0.00185259; generator_loss: 7.14165; MI_disc: 20.5599; CrossEnt_disc: 2.46598; MI: 20.5599; CrossEnt: 2.46598; max_real_d: 1.0; min_real_d: 0.982645; max_fake_d: 0.00088315; min_fake_d: 0.000769846\n"
     ]
    },
    {
     "name": "stderr",
     "output_type": "stream",
     "text": []
    },
    {
     "name": "stdout",
     "output_type": "stream",
     "text": [
      "Epoch 34 | discriminator_loss: 0.00261443; generator_loss: 6.77888; MI_disc: 20.6729; CrossEnt_disc: 2.35293; MI: 20.6729; CrossEnt: 2.35293; max_real_d: 1.0; min_real_d: 0.974989; max_fake_d: 0.00128101; min_fake_d: 0.00112088\n"
     ]
    },
    {
     "name": "stderr",
     "output_type": "stream",
     "text": []
    },
    {
     "name": "stdout",
     "output_type": "stream",
     "text": [
      "Epoch 35 | discriminator_loss: 0.00221587; generator_loss: 6.91616; MI_disc: 20.8511; CrossEnt_disc: 2.17474; MI: 20.8511; CrossEnt: 2.17474; max_real_d: 1.0; min_real_d: 0.980414; max_fake_d: 0.00109588; min_fake_d: 0.000979669\n"
     ]
    },
    {
     "name": "stderr",
     "output_type": "stream",
     "text": []
    },
    {
     "name": "stdout",
     "output_type": "stream",
     "text": [
      "Epoch 36 | discriminator_loss: 0.00142154; generator_loss: 7.2062; MI_disc: 20.9801; CrossEnt_disc: 2.04579; MI: 20.9801; CrossEnt: 2.04579; max_real_d: 1.0; min_real_d: 0.989259; max_fake_d: 0.000818293; min_fake_d: 0.000733754\n"
     ]
    },
    {
     "name": "stderr",
     "output_type": "stream",
     "text": []
    },
    {
     "name": "stdout",
     "output_type": "stream",
     "text": [
      "Epoch 37 | discriminator_loss: 0.00166739; generator_loss: 7.17718; MI_disc: 21.0805; CrossEnt_disc: 1.94537; MI: 21.0805; CrossEnt: 1.94537; max_real_d: 1.0; min_real_d: 0.985747; max_fake_d: 0.000834001; min_fake_d: 0.000740326\n"
     ]
    },
    {
     "name": "stderr",
     "output_type": "stream",
     "text": []
    },
    {
     "name": "stdout",
     "output_type": "stream",
     "text": [
      "Epoch 38 | discriminator_loss: 0.00149344; generator_loss: 7.21217; MI_disc: 21.1968; CrossEnt_disc: 1.82909; MI: 21.1968; CrossEnt: 1.82909; max_real_d: 1.0; min_real_d: 0.987924; max_fake_d: 0.000792368; min_fake_d: 0.000701727\n"
     ]
    },
    {
     "name": "stderr",
     "output_type": "stream",
     "text": []
    },
    {
     "name": "stdout",
     "output_type": "stream",
     "text": [
      "Model saved in file: ckt/speech_face/celebA_model_celebA_codes_color_img-align-celeba_2016_10_04_14_50_34/celebA_model_celebA_codes_color_img-align-celeba_2016_10_04_14_50_34_2000.ckpt\n",
      "Epoch 39 | discriminator_loss: 0.00176186; generator_loss: 7.20934; MI_disc: 21.2561; CrossEnt_disc: 1.76973; MI: 21.2561; CrossEnt: 1.76973; max_real_d: 1.0; min_real_d: 0.983742; max_fake_d: 0.00086168; min_fake_d: 0.000760447\n"
     ]
    },
    {
     "name": "stderr",
     "output_type": "stream",
     "text": []
    },
    {
     "name": "stdout",
     "output_type": "stream",
     "text": [
      "Epoch 40 | discriminator_loss: 0.00167109; generator_loss: 7.20218; MI_disc: 21.3981; CrossEnt_disc: 1.62774; MI: 21.3981; CrossEnt: 1.62774; max_real_d: 1.0; min_real_d: 0.983525; max_fake_d: 0.000797307; min_fake_d: 0.000712981\n"
     ]
    },
    {
     "name": "stderr",
     "output_type": "stream",
     "text": []
    },
    {
     "name": "stdout",
     "output_type": "stream",
     "text": [
      "Epoch 41 | discriminator_loss: 0.00184556; generator_loss: 7.09739; MI_disc: 21.4507; CrossEnt_disc: 1.57515; MI: 21.4507; CrossEnt: 1.57515; max_real_d: 0.999999; min_real_d: 0.978323; max_fake_d: 0.000891104; min_fake_d: 0.000801795\n"
     ]
    },
    {
     "name": "stderr",
     "output_type": "stream",
     "text": []
    },
    {
     "name": "stdout",
     "output_type": "stream",
     "text": [
      "Epoch 42 | discriminator_loss: 0.00139383; generator_loss: 7.33687; MI_disc: 21.5604; CrossEnt_disc: 1.46548; MI: 21.5604; CrossEnt: 1.46548; max_real_d: 0.999999; min_real_d: 0.982451; max_fake_d: 0.000708084; min_fake_d: 0.000638868\n"
     ]
    },
    {
     "name": "stderr",
     "output_type": "stream",
     "text": []
    },
    {
     "name": "stdout",
     "output_type": "stream",
     "text": [
      "Epoch 45 | discriminator_loss: 0.00220106; generator_loss: 6.99123; MI_disc: 21.6885; CrossEnt_disc: 1.33739; MI: 21.6885; CrossEnt: 1.33739; max_real_d: 0.999999; min_real_d: 0.98338; max_fake_d: 0.00100557; min_fake_d: 0.000900456\n"
     ]
    },
    {
     "name": "stderr",
     "output_type": "stream",
     "text": []
    },
    {
     "name": "stdout",
     "output_type": "stream",
     "text": [
      "Epoch 46 | discriminator_loss: 0.0012529; generator_loss: 7.48352; MI_disc: 21.8408; CrossEnt_disc: 1.18502; MI: 21.8408; CrossEnt: 1.18502; max_real_d: 1.0; min_real_d: 0.992152; max_fake_d: 0.000599572; min_fake_d: 0.000544974\n"
     ]
    },
    {
     "name": "stderr",
     "output_type": "stream",
     "text": []
    },
    {
     "name": "stdout",
     "output_type": "stream",
     "text": [
      "Epoch 47 | discriminator_loss: 0.000988639; generator_loss: 7.66483; MI_disc: 21.9194; CrossEnt_disc: 1.10642; MI: 21.9194; CrossEnt: 1.10642; max_real_d: 1.0; min_real_d: 0.993386; max_fake_d: 0.000510841; min_fake_d: 0.000463569\n"
     ]
    },
    {
     "name": "stderr",
     "output_type": "stream",
     "text": []
    },
    {
     "name": "stdout",
     "output_type": "stream",
     "text": [
      "Epoch 48 | discriminator_loss: 0.000590281; generator_loss: 8.27083; MI_disc: 21.9802; CrossEnt_disc: 1.04565; MI: 21.9802; CrossEnt: 1.04565; max_real_d: 1.0; min_real_d: 0.995999; max_fake_d: 0.000268442; min_fake_d: 0.000245762\n"
     ]
    },
    {
     "name": "stderr",
     "output_type": "stream",
     "text": []
    },
    {
     "name": "stdout",
     "output_type": "stream",
     "text": [
      "Epoch 49 | discriminator_loss: 0.000498457; generator_loss: 8.32903; MI_disc: 22.0278; CrossEnt_disc: 0.998095; MI: 22.0278; CrossEnt: 0.998095; max_real_d: 1.0; min_real_d: 0.996988; max_fake_d: 0.000259599; min_fake_d: 0.000235985\n"
     ]
    },
    {
     "name": "stderr",
     "output_type": "stream",
     "text": []
    },
    {
     "name": "stdout",
     "output_type": "stream",
     "text": [
      "Epoch 50 | discriminator_loss: 0.00040327; generator_loss: 8.38644; MI_disc: 22.0973; CrossEnt_disc: 0.928571; MI: 22.0973; CrossEnt: 0.928571; max_real_d: 1.0; min_real_d: 0.997963; max_fake_d: 0.000244042; min_fake_d: 0.000221393\n"
     ]
    },
    {
     "name": "stderr",
     "output_type": "stream",
     "text": []
    },
    {
     "name": "stdout",
     "output_type": "stream",
     "text": [
      "Epoch 51 | discriminator_loss: 0.000382358; generator_loss: 8.48127; MI_disc: 22.1213; CrossEnt_disc: 0.904521; MI: 22.1213; CrossEnt: 0.904521; max_real_d: 1.0; min_real_d: 0.997941; max_fake_d: 0.000219965; min_fake_d: 0.00019907\n"
     ]
    },
    {
     "name": "stderr",
     "output_type": "stream",
     "text": []
    },
    {
     "name": "stdout",
     "output_type": "stream",
     "text": [
      "Epoch 52 | discriminator_loss: 0.000359817; generator_loss: 8.59401; MI_disc: 22.1713; CrossEnt_disc: 0.854564; MI: 22.1713; CrossEnt: 0.854564; max_real_d: 1.0; min_real_d: 0.997833; max_fake_d: 0.000197147; min_fake_d: 0.000178863\n"
     ]
    },
    {
     "name": "stderr",
     "output_type": "stream",
     "text": []
    },
    {
     "name": "stdout",
     "output_type": "stream",
     "text": [
      "Epoch 53 | discriminator_loss: 0.000376634; generator_loss: 8.80448; MI_disc: 22.2198; CrossEnt_disc: 0.806016; MI: 22.2198; CrossEnt: 0.806016; max_real_d: 1.0; min_real_d: 0.997049; max_fake_d: 0.000162309; min_fake_d: 0.000148182\n"
     ]
    },
    {
     "name": "stderr",
     "output_type": "stream",
     "text": []
    },
    {
     "name": "stdout",
     "output_type": "stream",
     "text": [
      "Epoch 54 | discriminator_loss: 0.000364853; generator_loss: 8.67407; MI_disc: 22.2619; CrossEnt_disc: 0.763928; MI: 22.2619; CrossEnt: 0.763928; max_real_d: 1.0; min_real_d: 0.997291; max_fake_d: 0.000181518; min_fake_d: 0.000165668\n"
     ]
    },
    {
     "name": "stderr",
     "output_type": "stream",
     "text": []
    },
    {
     "name": "stdout",
     "output_type": "stream",
     "text": [
      "Epoch 55 | discriminator_loss: 0.000336881; generator_loss: 9.04251; MI_disc: 22.2899; CrossEnt_disc: 0.736; MI: 22.2899; CrossEnt: 0.736; max_real_d: 1.0; min_real_d: 0.996539; max_fake_d: 0.000124549; min_fake_d: 0.000114347\n"
     ]
    },
    {
     "name": "stderr",
     "output_type": "stream",
     "text": []
    },
    {
     "name": "stdout",
     "output_type": "stream",
     "text": [
      "Epoch 56 | discriminator_loss: 0.000322864; generator_loss: 9.18206; MI_disc: 22.3128; CrossEnt_disc: 0.713021; MI: 22.3128; CrossEnt: 0.713021; max_real_d: 1.0; min_real_d: 0.996881; max_fake_d: 0.000108594; min_fake_d: 9.93499e-05\n"
     ]
    },
    {
     "name": "stderr",
     "output_type": "stream",
     "text": []
    },
    {
     "name": "stdout",
     "output_type": "stream",
     "text": [
      "Epoch 57 | discriminator_loss: 0.000225906; generator_loss: 9.06787; MI_disc: 22.3642; CrossEnt_disc: 0.661619; MI: 22.3642; CrossEnt: 0.661619; max_real_d: 1.0; min_real_d: 0.998617; max_fake_d: 0.000120089; min_fake_d: 0.000111105\n"
     ]
    },
    {
     "name": "stderr",
     "output_type": "stream",
     "text": []
    },
    {
     "name": "stdout",
     "output_type": "stream",
     "text": [
      "Epoch 58 | discriminator_loss: 0.000229619; generator_loss: 9.00177; MI_disc: 22.3839; CrossEnt_disc: 0.641998; MI: 22.3839; CrossEnt: 0.641998; max_real_d: 1.0; min_real_d: 0.998746; max_fake_d: 0.000134013; min_fake_d: 0.000123563\n"
     ]
    },
    {
     "name": "stderr",
     "output_type": "stream",
     "text": []
    },
    {
     "name": "stdout",
     "output_type": "stream",
     "text": [
      "Model saved in file: ckt/speech_face/celebA_model_celebA_codes_color_img-align-celeba_2016_10_04_14_50_34/celebA_model_celebA_codes_color_img-align-celeba_2016_10_04_14_50_34_3000.ckpt\n",
      "Epoch 59 | discriminator_loss: 0.000257549; generator_loss: 8.87364; MI_disc: 22.4218; CrossEnt_disc: 0.604104; MI: 22.4218; CrossEnt: 0.604104; max_real_d: 1.0; min_real_d: 0.998479; max_fake_d: 0.000147707; min_fake_d: 0.000135466\n"
     ]
    },
    {
     "name": "stderr",
     "output_type": "stream",
     "text": []
    },
    {
     "name": "stdout",
     "output_type": "stream",
     "text": [
      "Epoch 60 | discriminator_loss: 0.000234372; generator_loss: 9.25871; MI_disc: 22.4293; CrossEnt_disc: 0.596542; MI: 22.4293; CrossEnt: 0.596542; max_real_d: 1.0; min_real_d: 0.998196; max_fake_d: 0.000100057; min_fake_d: 9.16284e-05\n"
     ]
    },
    {
     "name": "stderr",
     "output_type": "stream",
     "text": []
    },
    {
     "name": "stdout",
     "output_type": "stream",
     "text": [
      "Epoch 61 | discriminator_loss: 0.000200511; generator_loss: 9.37012; MI_disc: 22.4756; CrossEnt_disc: 0.550262; MI: 22.4756; CrossEnt: 0.550262; max_real_d: 1.0; min_real_d: 0.998368; max_fake_d: 9.38455e-05; min_fake_d: 8.60803e-05\n"
     ]
    },
    {
     "name": "stderr",
     "output_type": "stream",
     "text": []
    },
    {
     "name": "stdout",
     "output_type": "stream",
     "text": [
      "Epoch 62 | discriminator_loss: 0.000176544; generator_loss: 9.51371; MI_disc: 22.4837; CrossEnt_disc: 0.542145; MI: 22.4837; CrossEnt: 0.542145; max_real_d: 1.0; min_real_d: 0.998399; max_fake_d: 7.87578e-05; min_fake_d: 7.23295e-05\n"
     ]
    },
    {
     "name": "stderr",
     "output_type": "stream",
     "text": []
    },
    {
     "name": "stdout",
     "output_type": "stream",
     "text": [
      "Epoch 63 | discriminator_loss: 0.00016957; generator_loss: 9.22238; MI_disc: 22.5145; CrossEnt_disc: 0.511311; MI: 22.5145; CrossEnt: 0.511311; max_real_d: 1.0; min_real_d: 0.998845; max_fake_d: 0.000109494; min_fake_d: 0.00010057\n"
     ]
    },
    {
     "name": "stderr",
     "output_type": "stream",
     "text": []
    },
    {
     "name": "stdout",
     "output_type": "stream",
     "text": [
      "Epoch 64 | discriminator_loss: 0.000182603; generator_loss: 9.15976; MI_disc: 22.5283; CrossEnt_disc: 0.497515; MI: 22.5283; CrossEnt: 0.497515; max_real_d: 1.0; min_real_d: 0.998614; max_fake_d: 0.000112225; min_fake_d: 0.000102978\n"
     ]
    },
    {
     "name": "stderr",
     "output_type": "stream",
     "text": []
    },
    {
     "name": "stdout",
     "output_type": "stream",
     "text": [
      "Epoch 65 | discriminator_loss: 0.000170145; generator_loss: 9.30196; MI_disc: 22.5566; CrossEnt_disc: 0.469255; MI: 22.5566; CrossEnt: 0.469255; max_real_d: 1.0; min_real_d: 0.998633; max_fake_d: 9.71362e-05; min_fake_d: 8.91531e-05\n"
     ]
    },
    {
     "name": "stderr",
     "output_type": "stream",
     "text": []
    },
    {
     "name": "stdout",
     "output_type": "stream",
     "text": [
      "Epoch 66 | discriminator_loss: 0.000199194; generator_loss: 9.19825; MI_disc: 22.5518; CrossEnt_disc: 0.474078; MI: 22.5518; CrossEnt: 0.474078; max_real_d: 1.0; min_real_d: 0.998323; max_fake_d: 0.000114318; min_fake_d: 0.000104872\n"
     ]
    },
    {
     "name": "stderr",
     "output_type": "stream",
     "text": []
    },
    {
     "name": "stdout",
     "output_type": "stream",
     "text": [
      "Epoch 67 | discriminator_loss: 0.000253846; generator_loss: 9.03081; MI_disc: 22.5494; CrossEnt_disc: 0.476481; MI: 22.5494; CrossEnt: 0.476481; max_real_d: 1.0; min_real_d: 0.997204; max_fake_d: 0.00013039; min_fake_d: 0.000118468\n"
     ]
    },
    {
     "name": "stderr",
     "output_type": "stream",
     "text": []
    },
    {
     "name": "stdout",
     "output_type": "stream",
     "text": [
      "Epoch 68 | discriminator_loss: 0.000263915; generator_loss: 9.06707; MI_disc: 22.5717; CrossEnt_disc: 0.454184; MI: 22.5717; CrossEnt: 0.454184; max_real_d: 1.0; min_real_d: 0.997062; max_fake_d: 0.00012607; min_fake_d: 0.000114757\n"
     ]
    },
    {
     "name": "stderr",
     "output_type": "stream",
     "text": []
    },
    {
     "name": "stdout",
     "output_type": "stream",
     "text": [
      "Epoch 69 | discriminator_loss: 0.000319122; generator_loss: 8.90376; MI_disc: 22.5666; CrossEnt_disc: 0.459282; MI: 22.5666; CrossEnt: 0.459282; max_real_d: 1.0; min_real_d: 0.996699; max_fake_d: 0.000151616; min_fake_d: 0.00013791\n"
     ]
    },
    {
     "name": "stderr",
     "output_type": "stream",
     "text": []
    },
    {
     "name": "stdout",
     "output_type": "stream",
     "text": [
      "Epoch 70 | discriminator_loss: 0.0007836; generator_loss: 8.12835; MI_disc: 22.5399; CrossEnt_disc: 0.485936; MI: 22.5399; CrossEnt: 0.485936; max_real_d: 1.0; min_real_d: 0.992095; max_fake_d: 0.00033094; min_fake_d: 0.000302496\n"
     ]
    },
    {
     "name": "stderr",
     "output_type": "stream",
     "text": []
    },
    {
     "name": "stdout",
     "output_type": "stream",
     "text": [
      "Epoch 71 | discriminator_loss: 0.000684942; generator_loss: 8.12037; MI_disc: 22.5815; CrossEnt_disc: 0.444398; MI: 22.5815; CrossEnt: 0.444398; max_real_d: 1.0; min_real_d: 0.994523; max_fake_d: 0.000317151; min_fake_d: 0.000293046\n"
     ]
    },
    {
     "name": "stderr",
     "output_type": "stream",
     "text": []
    },
    {
     "name": "stdout",
     "output_type": "stream",
     "text": [
      "Epoch 72 | discriminator_loss: 0.000466456; generator_loss: 8.56854; MI_disc: 22.6306; CrossEnt_disc: 0.395215; MI: 22.6306; CrossEnt: 0.395215; max_real_d: 1.0; min_real_d: 0.99662; max_fake_d: 0.000203078; min_fake_d: 0.000188183\n"
     ]
    },
    {
     "name": "stderr",
     "output_type": "stream",
     "text": []
    },
    {
     "name": "stdout",
     "output_type": "stream",
     "text": [
      "Epoch 73 | discriminator_loss: 0.000353261; generator_loss: 8.69739; MI_disc: 22.6382; CrossEnt_disc: 0.387639; MI: 22.6382; CrossEnt: 0.387639; max_real_d: 1.0; min_real_d: 0.997426; max_fake_d: 0.000177249; min_fake_d: 0.000165856\n"
     ]
    },
    {
     "name": "stderr",
     "output_type": "stream",
     "text": []
    },
    {
     "name": "stdout",
     "output_type": "stream",
     "text": [
      "Epoch 74 | discriminator_loss: 0.000277929; generator_loss: 9.25088; MI_disc: 22.6521; CrossEnt_disc: 0.373758; MI: 22.6521; CrossEnt: 0.373758; max_real_d: 1.0; min_real_d: 0.997282; max_fake_d: 0.000101163; min_fake_d: 9.49612e-05\n"
     ]
    },
    {
     "name": "stderr",
     "output_type": "stream",
     "text": []
    },
    {
     "name": "stdout",
     "output_type": "stream",
     "text": [
      "Epoch 75 | discriminator_loss: 0.00026886; generator_loss: 8.98462; MI_disc: 22.6641; CrossEnt_disc: 0.361757; MI: 22.6641; CrossEnt: 0.361757; max_real_d: 1.0; min_real_d: 0.997536; max_fake_d: 0.000134332; min_fake_d: 0.000125196\n"
     ]
    },
    {
     "name": "stderr",
     "output_type": "stream",
     "text": []
    },
    {
     "name": "stdout",
     "output_type": "stream",
     "text": [
      "Epoch 76 | discriminator_loss: 0.000224557; generator_loss: 9.71108; MI_disc: 22.6668; CrossEnt_disc: 0.359035; MI: 22.6668; CrossEnt: 0.359035; max_real_d: 1.0; min_real_d: 0.997014; max_fake_d: 6.49505e-05; min_fake_d: 6.04607e-05\n"
     ]
    },
    {
     "name": "stderr",
     "output_type": "stream",
     "text": []
    },
    {
     "name": "stdout",
     "output_type": "stream",
     "text": [
      "Epoch 77 | discriminator_loss: 0.000299036; generator_loss: 9.10901; MI_disc: 22.665; CrossEnt_disc: 0.360893; MI: 22.665; CrossEnt: 0.360893; max_real_d: 1.0; min_real_d: 0.996069; max_fake_d: 0.000119579; min_fake_d: 0.000111169\n"
     ]
    },
    {
     "name": "stderr",
     "output_type": "stream",
     "text": []
    },
    {
     "name": "stdout",
     "output_type": "stream",
     "text": [
      "Epoch 78 | discriminator_loss: 0.00033609; generator_loss: 8.84539; MI_disc: 22.6861; CrossEnt_disc: 0.339762; MI: 22.6861; CrossEnt: 0.339762; max_real_d: 1.0; min_real_d: 0.99539; max_fake_d: 0.000152607; min_fake_d: 0.000142662\n"
     ]
    },
    {
     "name": "stderr",
     "output_type": "stream",
     "text": []
    },
    {
     "name": "stdout",
     "output_type": "stream",
     "text": [
      "Model saved in file: ckt/speech_face/celebA_model_celebA_codes_color_img-align-celeba_2016_10_04_14_50_34/celebA_model_celebA_codes_color_img-align-celeba_2016_10_04_14_50_34_4000.ckpt\n",
      "Epoch 79 | discriminator_loss: 0.00038909; generator_loss: 8.632; MI_disc: 22.7024; CrossEnt_disc: 0.32347; MI: 22.7024; CrossEnt: 0.32347; max_real_d: 1.0; min_real_d: 0.995801; max_fake_d: 0.000190215; min_fake_d: 0.000178497\n"
     ]
    },
    {
     "name": "stderr",
     "output_type": "stream",
     "text": []
    }
   ],
   "source": [
    "sess = tf.Session()\n",
    "\n",
    "algo.train(sess=sess)"
   ]
  },
  {
   "cell_type": "code",
   "execution_count": null,
   "metadata": {
    "collapsed": true
   },
   "outputs": [],
   "source": []
  },
  {
   "cell_type": "code",
   "execution_count": null,
   "metadata": {
    "collapsed": false
   },
   "outputs": [],
   "source": [
    "tf_vars = tf.get_collection(tf.GraphKeys.VARIABLES)\n",
    "pretty_vars = {v.name: v for v in tf_vars}\n",
    "dict(pretty_vars.items()[:5])"
   ]
  },
  {
   "cell_type": "code",
   "execution_count": null,
   "metadata": {
    "collapsed": true
   },
   "outputs": [],
   "source": [
    "import math\n",
    "import numpy"
   ]
  },
  {
   "cell_type": "code",
   "execution_count": null,
   "metadata": {
    "collapsed": false
   },
   "outputs": [],
   "source": [
    "tf_var_vals = {v.name : sess.run(v) for v in tf_vars}"
   ]
  },
  {
   "cell_type": "code",
   "execution_count": null,
   "metadata": {
    "collapsed": true
   },
   "outputs": [],
   "source": []
  },
  {
   "cell_type": "code",
   "execution_count": null,
   "metadata": {
    "collapsed": false
   },
   "outputs": [],
   "source": [
    "non_nans = {name : v for name,v in tf_var_vals.iteritems() if not np.any(np.isnan(v))}\n",
    "non_nans"
   ]
  },
  {
   "cell_type": "code",
   "execution_count": null,
   "metadata": {
    "collapsed": true
   },
   "outputs": [],
   "source": []
  },
  {
   "cell_type": "code",
   "execution_count": 1,
   "metadata": {
    "collapsed": false
   },
   "outputs": [
    {
     "ename": "NameError",
     "evalue": "name 'dataset' is not defined",
     "output_type": "error",
     "traceback": [
      "\u001b[0;31m-----------------------------------------------\u001b[0m",
      "\u001b[0;31mNameError\u001b[0m     Traceback (most recent call last)",
      "\u001b[0;32m<ipython-input-1-fe0c59e0c53a>\u001b[0m in \u001b[0;36m<module>\u001b[0;34m()\u001b[0m\n\u001b[1;32m     10\u001b[0m \u001b[0;34m\u001b[0m\u001b[0m\n\u001b[1;32m     11\u001b[0m \u001b[0;31m# Gray Images: play_frames_clip([np.insert(np.insert(frame.reshape(dataset.image_shape[0], dataset.image_shape[1], 1), 0, 2, axis=2), 0, 2, axis=2) for frame in dataset.raw_images[10:20]])\u001b[0m\u001b[0;34m\u001b[0m\u001b[0;34m\u001b[0m\u001b[0m\n\u001b[0;32m---> 12\u001b[0;31m \u001b[0mplay_frames_clip\u001b[0m\u001b[0;34m(\u001b[0m\u001b[0;34m[\u001b[0m\u001b[0mframe\u001b[0m\u001b[0;34m.\u001b[0m\u001b[0mreshape\u001b[0m\u001b[0;34m(\u001b[0m\u001b[0mdataset\u001b[0m\u001b[0;34m.\u001b[0m\u001b[0mimage_shape\u001b[0m\u001b[0;34m)\u001b[0m \u001b[0;32mfor\u001b[0m \u001b[0mframe\u001b[0m \u001b[0;32min\u001b[0m \u001b[0mdataset\u001b[0m\u001b[0;34m.\u001b[0m\u001b[0mraw_images\u001b[0m\u001b[0;34m[\u001b[0m\u001b[0;36m10\u001b[0m\u001b[0;34m:\u001b[0m\u001b[0;36m20\u001b[0m\u001b[0;34m]\u001b[0m\u001b[0;34m]\u001b[0m\u001b[0;34m)\u001b[0m\u001b[0;34m\u001b[0m\u001b[0m\n\u001b[0m\u001b[1;32m     13\u001b[0m \u001b[0;32mprint\u001b[0m\u001b[0;34m(\u001b[0m\u001b[0mdataset\u001b[0m\u001b[0;34m.\u001b[0m\u001b[0mimage_shape\u001b[0m\u001b[0;34m)\u001b[0m\u001b[0;34m\u001b[0m\u001b[0m\n",
      "\u001b[0;31mNameError\u001b[0m: name 'dataset' is not defined"
     ]
    }
   ],
   "source": [
    "def play_frames_clip(frames):\n",
    "    ''' frames -- a list/array of np.array images. Plays all frames in the notebook as a clip.'''\n",
    "    from matplotlib import pyplot as plt\n",
    "    from IPython import display\n",
    "\n",
    "    for frame in frames:\n",
    "        plt.imshow(frame)\n",
    "        display.display(plt.gcf())\n",
    "        display.clear_output(wait=True)\n",
    "\n",
    "# Gray Images: play_frames_clip([np.insert(np.insert(frame.reshape(dataset.image_shape[0], dataset.image_shape[1], 1), 0, 2, axis=2), 0, 2, axis=2) for frame in dataset.raw_images[10:20]])\n",
    "play_frames_clip([frame.reshape(dataset.image_shape) for frame in dataset.raw_images[10:20]])\n",
    "print(dataset.image_shape)"
   ]
  },
  {
   "cell_type": "code",
   "execution_count": null,
   "metadata": {
    "collapsed": true
   },
   "outputs": [],
   "source": []
  },
  {
   "cell_type": "code",
   "execution_count": null,
   "metadata": {
    "collapsed": false
   },
   "outputs": [],
   "source": []
  },
  {
   "cell_type": "code",
   "execution_count": null,
   "metadata": {
    "collapsed": false
   },
   "outputs": [],
   "source": [
    "normalized_frames = [normalize(x) for x in dataset.raw_images[10:20]]\n",
    "#play_frames_clip([np.insert(np.insert(frame.reshape(dataset.image_shape[0], dataset.image_shape[1], 1), 0, 2, axis=2), 0, 2, axis=2) for frame in normalized_frames])\n",
    "play_frames_clip([frame.reshape(dataset.image_shape) for frame in normalized_frames])\n"
   ]
  },
  {
   "cell_type": "code",
   "execution_count": 9,
   "metadata": {
    "collapsed": false,
    "scrolled": false
   },
   "outputs": [
    {
     "name": "stdout",
     "output_type": "stream",
     "text": [
      "[[[124  85  44]\n",
      "  [125  86  48]\n",
      "  [127  88  52]\n",
      "  ..., \n",
      "  [251 251 251]\n",
      "  [250 250 250]\n",
      "  [250 250 250]]\n",
      "\n",
      " [[124  85  44]\n",
      "  [126  86  48]\n",
      "  [127  88  52]\n",
      "  ..., \n",
      "  [251 251 251]\n",
      "  [250 250 250]\n",
      "  [250 250 250]]\n",
      "\n",
      " [[123  84  44]\n",
      "  [126  87  49]\n",
      "  [128  88  51]\n",
      "  ..., \n",
      "  [251 251 251]\n",
      "  [250 250 250]\n",
      "  [250 250 250]]\n",
      "\n",
      " ..., \n",
      " [[193 236 245]\n",
      "  [143 184 200]\n",
      "  [121 162 181]\n",
      "  ..., \n",
      "  [134 107  78]\n",
      "  [115  78  54]\n",
      "  [ 93  54  39]]\n",
      "\n",
      " [[180 222 236]\n",
      "  [129 169 189]\n",
      "  [118 156 175]\n",
      "  ..., \n",
      "  [ 99  80  60]\n",
      "  [ 97  69  44]\n",
      "  [109  73  52]]\n",
      "\n",
      " [[166 211 230]\n",
      "  [126 168 188]\n",
      "  [112 150 169]\n",
      "  ..., \n",
      "  [164 173 166]\n",
      "  [104  96  81]\n",
      "  [ 89  68  48]]]\n",
      "--------------------\n",
      "[124  85  44 ...,  89  68  48]\n",
      "--------------------\n",
      "[ 0.55192218  0.01609173 -0.54721721  0.56566142  0.02983097 -0.49226024\n",
      "  0.59313991  0.05730946 -0.43730327  0.56566142  0.0710487  -0.46478175\n",
      "  0.81296778  0.71679309  0.45574748  1.67854005  1.71975778  1.63732232\n",
      "  1.54114763  1.63732232]\n"
     ]
    }
   ],
   "source": [
    "print(dataset.raw_images[0])\n",
    "print('--------------------')\n",
    "print(dataset.train.images[0])\n",
    "print('--------------------')\n",
    "print(normalize(dataset.train.images[0])[:20])"
   ]
  },
  {
   "cell_type": "code",
   "execution_count": null,
   "metadata": {
    "collapsed": false
   },
   "outputs": [],
   "source": []
  },
  {
   "cell_type": "code",
   "execution_count": null,
   "metadata": {
    "collapsed": true
   },
   "outputs": [],
   "source": []
  }
 ],
 "metadata": {
  "anaconda-cloud": {},
  "kernelspec": {
   "display_name": "Python [conda env:p2]",
   "language": "python",
   "name": "conda-env-p2-py"
  },
  "language_info": {
   "codemirror_mode": {
    "name": "ipython",
    "version": 2
   },
   "file_extension": ".py",
   "mimetype": "text/x-python",
   "name": "python",
   "nbconvert_exporter": "python",
   "pygments_lexer": "ipython2",
   "version": "2.7.12"
  }
 },
 "nbformat": 4,
 "nbformat_minor": 0
}
