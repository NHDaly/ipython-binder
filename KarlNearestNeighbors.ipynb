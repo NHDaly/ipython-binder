{
 "cells": [
  {
   "cell_type": "code",
   "execution_count": 1,
   "metadata": {
    "collapsed": true
   },
   "outputs": [],
   "source": [
    "%matplotlib inline"
   ]
  },
  {
   "cell_type": "code",
   "execution_count": 2,
   "metadata": {
    "collapsed": true
   },
   "outputs": [],
   "source": [
    "import matplotlib\n",
    "import numpy as np\n",
    "import matplotlib.pyplot as plt"
   ]
  },
  {
   "cell_type": "code",
   "execution_count": 3,
   "metadata": {
    "collapsed": false
   },
   "outputs": [],
   "source": [
    "DEBUG_PRINT=True  # Turn this to false to silence all print statements. (A good idea if you have lots of points.)\n",
    "def LOG(*args):\n",
    "    if DEBUG_PRINT: print ' '.join([str(x) for x in args])"
   ]
  },
  {
   "cell_type": "markdown",
   "metadata": {},
   "source": [
    "**Goal:** For each point in a list, find the set of points that are within `desired_range` of that point.\n",
    "\n",
    "You can reframe this problem as finding all overlapping circles from the set of circles with radius `desired_range` centered around each of the points."
   ]
  },
  {
   "cell_type": "code",
   "execution_count": 4,
   "metadata": {
    "collapsed": true
   },
   "outputs": [],
   "source": [
    "# INPUTS\n",
    "points = [(2.,4.), (3.5,1.), (3.,4.2), (6.,3.8),(7.75,5.0)]\n",
    "#import random\n",
    "#points = [(random.uniform(0.,50.), random.uniform(0.,50.)) for x in range(0,1000)]\n",
    "desired_range = 1"
   ]
  },
  {
   "cell_type": "code",
   "execution_count": 5,
   "metadata": {
    "collapsed": false
   },
   "outputs": [
    {
     "data": {
      "image/png": "[encoded data removed]",
      "text/plain": [
       "<matplotlib.figure.Figure at 0x1105f81d0>"
      ]
     },
     "metadata": {},
     "output_type": "display_data"
    }
   ],
   "source": [
    "# A convenience function to make it easier to visualize the algorithm.\n",
    "def plot_circles(points, radius):\n",
    "    plt.axes()\n",
    "\n",
    "    for point in points:\n",
    "        circle = plt.Circle((point), radius=radius, fc='y')\n",
    "        plt.gca().add_patch(circle)\n",
    "\n",
    "    plt.axis('scaled')\n",
    "    plt.show()\n",
    "plot_circles(points, desired_range)"
   ]
  },
  {
   "cell_type": "code",
   "execution_count": 6,
   "metadata": {
    "collapsed": true
   },
   "outputs": [],
   "source": [
    "def MinEdge(pt, axis, radius):\n",
    "    return pt[axis] - radius\n",
    "def MaxEdge(pt, axis, radius):\n",
    "    return pt[axis] + radius"
   ]
  },
  {
   "cell_type": "code",
   "execution_count": 7,
   "metadata": {
    "collapsed": false
   },
   "outputs": [],
   "source": [
    "def OverlapInX(points, desired_range):\n",
    "    return OverlapIn(points, 0, desired_range)\n",
    "def OverlapInY(points, desired_range):\n",
    "    return OverlapIn(points, 1, desired_range)\n",
    "def OverlapIn(points, axis, desired_range):\n",
    "    from collections import defaultdict\n",
    "    projections = sorted(points, key=lambda pt: pt[axis])         # Holds list of points being considered\n",
    "    active_points = [projections[0]]  # Holds list of points being considered\n",
    "    possible_collisions = []  # Holds all points overlapping when projected onto axis.\n",
    "\n",
    "    for pt in projections[1:]:   # Skip 0, cause we put it in active_points already.\n",
    "        i = 0\n",
    "        while i < len(active_points):  # Note, both i and active_points change during this loop.\n",
    "            if MinEdge(pt, axis, desired_range) > MaxEdge(active_points[i], axis, desired_range):\n",
    "                del active_points[i]\n",
    "                i -= 1\n",
    "            else:\n",
    "                possible_collisions.append((pt, active_points[i]))\n",
    "                # possible_collisions[active_points[i]].append(pt)\n",
    "            i += 1\n",
    "        active_points.append(pt)\n",
    "    return possible_collisions"
   ]
  },
  {
   "cell_type": "code",
   "execution_count": 8,
   "metadata": {
    "collapsed": false
   },
   "outputs": [
    {
     "name": "stdout",
     "output_type": "stream",
     "text": [
      "4\n",
      "[((3.0, 4.2), (2.0, 4.0)), ((3.5, 1.0), (2.0, 4.0)), ((3.5, 1.0), (3.0, 4.2)), ((7.75, 5.0), (6.0, 3.8))]\n"
     ]
    }
   ],
   "source": [
    "possible_collisions_x = OverlapInX(points, desired_range)\n",
    "LOG(len(possible_collisions_x))\n",
    "LOG(possible_collisions_x)"
   ]
  },
  {
   "cell_type": "markdown",
   "metadata": {},
   "source": [
    "I don't think you *need* to do it for the Y. Instead, I think you just check each of the pairs for overlap in the Y? It does seem like there's an even more efficient way to do this? Like, maybe you want sets of overlapping things, not just pairs? Not sure though."
   ]
  },
  {
   "cell_type": "code",
   "execution_count": 9,
   "metadata": {
    "collapsed": false
   },
   "outputs": [],
   "source": [
    "# Don't need to check for the Ys, but it would look like this:\n",
    "# possible_collisions_y = OverlapInY(points, desired_range)\n",
    "# LOG(possible_collisions_y)"
   ]
  },
  {
   "cell_type": "code",
   "execution_count": 10,
   "metadata": {
    "collapsed": false
   },
   "outputs": [
    {
     "name": "stdout",
     "output_type": "stream",
     "text": [
      "[((3.0, 4.2), (2.0, 4.0)), ((7.75, 5.0), (6.0, 3.8))]\n"
     ]
    }
   ],
   "source": [
    "# Now go through all the X collision pairs and filter out only the ones that also overlap in Y.\n",
    "possible_collisions_both_axes = []\n",
    "for a,b in possible_collisions_x:\n",
    "    min_y = min([a[1],b[1]])\n",
    "    max_y = max([a[1],b[1]])\n",
    "    # If they do overlap (bottom of higher point is <= top of lower point)\n",
    "    if max_y - desired_range <= min_y + desired_range:\n",
    "        possible_collisions_both_axes.append((a,b))\n",
    "LOG(possible_collisions_both_axes)"
   ]
  },
  {
   "cell_type": "code",
   "execution_count": 11,
   "metadata": {
    "collapsed": false
   },
   "outputs": [],
   "source": [
    "def flatten(l):\n",
    "    return [item for sublist in l for item in sublist]"
   ]
  },
  {
   "cell_type": "code",
   "execution_count": 12,
   "metadata": {
    "collapsed": false
   },
   "outputs": [
    {
     "data": {
      "image/png": "[encoded data removed]",
      "text/plain": [
       "<matplotlib.figure.Figure at 0x10decf590>"
      ]
     },
     "metadata": {},
     "output_type": "display_data"
    }
   ],
   "source": [
    "plot_circles(flatten(possible_collisions_both_axes), desired_range)"
   ]
  },
  {
   "cell_type": "code",
   "execution_count": 13,
   "metadata": {
    "collapsed": true
   },
   "outputs": [],
   "source": [
    "def TestOverlap(a,b):\n",
    "    distance_sqrd = (a[0]-b[0])**2 + (a[1]-b[1])**2\n",
    "    return distance_sqrd <= (2*desired_range)**2"
   ]
  },
  {
   "cell_type": "code",
   "execution_count": 14,
   "metadata": {
    "collapsed": false
   },
   "outputs": [],
   "source": [
    "# Now actually test for collisions for all the possibly colliding points!\n",
    "all_overlaps_by_point = {pt : [] for pt in points}  # maps from a point to all its overlaps\n",
    "for a,b in possible_collisions_both_axes:\n",
    "    if TestOverlap(a,b) == True:\n",
    "        all_overlaps_by_point[a].append(b)\n",
    "        all_overlaps_by_point[b].append(a)"
   ]
  },
  {
   "cell_type": "markdown",
   "metadata": {},
   "source": [
    "The result that I've chosen to build above is a map from each point to all the points it overlaps with. I've chosen to leave non-overlapping points as `pt:[]`, but another valid (maybe better) option is to just leave it out of the map if it doesn't overlap with anything.\n",
    "\n",
    "Here are the results:"
   ]
  },
  {
   "cell_type": "code",
   "execution_count": 15,
   "metadata": {
    "collapsed": false
   },
   "outputs": [
    {
     "name": "stdout",
     "output_type": "stream",
     "text": [
      "{(3.5, 1.0): [], (6.0, 3.8): [], (7.75, 5.0): [], (2.0, 4.0): [(3.0, 4.2)], (3.0, 4.2): [(2.0, 4.0)]}\n"
     ]
    }
   ],
   "source": [
    "LOG(all_overlaps_by_point)"
   ]
  },
  {
   "cell_type": "code",
   "execution_count": 16,
   "metadata": {
    "collapsed": false
   },
   "outputs": [
    {
     "data": {
      "image/png": "[encoded data removed]",
      "text/plain": [
       "<matplotlib.figure.Figure at 0x1108bfcd0>"
      ]
     },
     "metadata": {},
     "output_type": "display_data"
    }
   ],
   "source": [
    "# Plot only the overlapping circles:\n",
    "plot_circles(flatten(all_overlaps_by_point.values()), desired_range)"
   ]
  },
  {
   "cell_type": "code",
   "execution_count": 17,
   "metadata": {
    "collapsed": false
   },
   "outputs": [
    {
     "data": {
      "text/plain": [
       "[(2.0, 4.0)]"
      ]
     },
     "execution_count": 17,
     "metadata": {},
     "output_type": "execute_result"
    }
   ],
   "source": [
    "all_overlaps_by_point[points[2]]"
   ]
  },
  {
   "cell_type": "code",
   "execution_count": null,
   "metadata": {
    "collapsed": true
   },
   "outputs": [],
   "source": []
  }
 ],
 "metadata": {
  "kernelspec": {
   "display_name": "Python 2",
   "language": "python",
   "name": "python2"
  },
  "language_info": {
   "codemirror_mode": {
    "name": "ipython",
    "version": 2
   },
   "file_extension": ".py",
   "mimetype": "text/x-python",
   "name": "python",
   "nbconvert_exporter": "python",
   "pygments_lexer": "ipython2",
   "version": "2.7.11"
  }
 },
 "nbformat": 4,
 "nbformat_minor": 0
}
